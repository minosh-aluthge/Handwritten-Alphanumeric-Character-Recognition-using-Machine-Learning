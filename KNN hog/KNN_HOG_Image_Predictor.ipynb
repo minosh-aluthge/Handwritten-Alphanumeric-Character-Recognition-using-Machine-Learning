{
 "cells": [
  {
   "cell_type": "markdown",
   "id": "5e14cf9f",
   "metadata": {},
   "source": [
    "# KNN with HOG Image Predictor\n",
    "\n",
    "This notebook loads a trained KNN model (using HOG features) and predicts custom images.\n",
    "No training required - just load the saved model and predict!\n",
    "\n",
    "## Model Details:\n",
    "- **Input Size**: 48x48 grayscale images\n",
    "- **Feature Extraction**: HOG (orientations=9, pixels_per_cell=(8,8), cells_per_block=(2,2))\n",
    "- **Classifier**: KNN with n_neighbors=5\n",
    "- **Model File**: `knn_hog_model_48x48.joblib`"
   ]
  },
  {
   "cell_type": "markdown",
   "id": "6f43a56f",
   "metadata": {},
   "source": [
    "## 1. Import Required Libraries"
   ]
  },
  {
   "cell_type": "code",
   "execution_count": 8,
   "id": "3550cda8",
   "metadata": {},
   "outputs": [
    {
     "name": "stdout",
     "output_type": "stream",
     "text": [
      "✓ Libraries imported successfully\n"
     ]
    }
   ],
   "source": [
    "# Import required libraries\n",
    "import os\n",
    "import cv2\n",
    "import numpy as np\n",
    "import matplotlib.pyplot as plt\n",
    "import joblib\n",
    "from skimage.feature import hog\n",
    "from sklearn.neighbors import KNeighborsClassifier\n",
    "\n",
    "print(\"✓ Libraries imported successfully\")"
   ]
  },
  {
   "cell_type": "markdown",
   "id": "40e06d5c",
   "metadata": {},
   "source": [
    "## 2. Configuration - Set Your Paths\n",
    "\n",
    "Update these paths to match your setup:\n",
    "- `BASE_PATH`: Root folder for your dataset\n",
    "- `RESULTS_PATH`: Folder where model is saved\n",
    "- `model_filepath`: Path to the saved KNN model file"
   ]
  },
  {
   "cell_type": "code",
   "execution_count": 9,
   "id": "394c68c6",
   "metadata": {},
   "outputs": [
    {
     "name": "stdout",
     "output_type": "stream",
     "text": [
      "Model path: /home/ubuntu/Desktop/AIML project/results/KNN/knn_hog_model_48x48.joblib\n",
      "Image size: 48x48 grayscale\n",
      "HOG params: {'orientations': 9, 'pixels_per_cell': (8, 8), 'cells_per_block': (2, 2), 'visualize': False}\n",
      "✓ Model file found!\n",
      "✓ Training path found!\n"
     ]
    }
   ],
   "source": [
    "# Configuration - Set your paths here\n",
    "BASE_PATH = '/home/ubuntu/Desktop/AIML project/AlphaNum2'\n",
    "TRAIN_PATH = os.path.join(BASE_PATH, \"train\")\n",
    "RESULTS_PATH = '/home/ubuntu/Desktop/AIML project/results/KNN'\n",
    "model_filename = 'knn_hog_model_48x48.joblib'\n",
    "model_filepath = os.path.join(RESULTS_PATH, model_filename)\n",
    "\n",
    "# Image specifications (must match training setup)\n",
    "IMG_HEIGHT = 48\n",
    "IMG_WIDTH = 48\n",
    "\n",
    "# HOG parameters (must match training setup)\n",
    "HOG_PARAMS = {\n",
    "    'orientations': 9,\n",
    "    'pixels_per_cell': (8, 8),\n",
    "    'cells_per_block': (2, 2),\n",
    "    'visualize': False\n",
    "}\n",
    "\n",
    "print(f\"Model path: {model_filepath}\")\n",
    "print(f\"Image size: {IMG_HEIGHT}x{IMG_WIDTH} grayscale\")\n",
    "print(f\"HOG params: {HOG_PARAMS}\")\n",
    "\n",
    "# Verify paths exist\n",
    "if os.path.exists(model_filepath):\n",
    "    print(\"✓ Model file found!\")\n",
    "else:\n",
    "    print(\"❌ Model file not found! Please check the path.\")\n",
    "\n",
    "if os.path.exists(TRAIN_PATH):\n",
    "    print(\"✓ Training path found!\")\n",
    "else:\n",
    "    print(\"❌ Training path not found! Please check the path.\")"
   ]
  },
  {
   "cell_type": "markdown",
   "id": "f2604f4b",
   "metadata": {},
   "source": [
    "## 3. Load Class Names"
   ]
  },
  {
   "cell_type": "code",
   "execution_count": 10,
   "id": "11ee3a40",
   "metadata": {},
   "outputs": [
    {
     "name": "stdout",
     "output_type": "stream",
     "text": [
      "✓ Found 53 classes\n",
      "\n",
      "First 10 classes: ['100', '101', '102', '103', '104', '105', '106', '107', '108', '109']\n",
      "Last 10 classes: ['85', '86', '87', '88', '89', '90', '97', '98', '99', '999']\n",
      "\n",
      "📋 Character Mapping (first 10):\n",
      "  Class 100 → 'd'\n",
      "  Class 101 → 'e'\n",
      "  Class 102 → 'f'\n",
      "  Class 103 → 'g'\n",
      "  Class 104 → 'h'\n",
      "  Class 105 → 'i'\n",
      "  Class 106 → 'j'\n",
      "  Class 107 → 'k'\n",
      "  Class 108 → 'l'\n",
      "  Class 109 → 'm'\n"
     ]
    }
   ],
   "source": [
    "# Get class names from training folder\n",
    "class_names = sorted([d for d in os.listdir(TRAIN_PATH) if os.path.isdir(os.path.join(TRAIN_PATH, d))])\n",
    "num_classes = len(class_names)\n",
    "\n",
    "print(f\"✓ Found {num_classes} classes\")\n",
    "print(f\"\\nFirst 10 classes: {class_names[:10]}\")\n",
    "print(f\"Last 10 classes: {class_names[-10:]}\")\n",
    "\n",
    "# Show character mapping for ASCII-based classes\n",
    "print(\"\\n📋 Character Mapping (first 10):\")\n",
    "for i, cls in enumerate(class_names[:10]):\n",
    "    if cls.isdigit():\n",
    "        if cls == '999':\n",
    "            print(f\"  Class {cls} → 'Null Class'\")\n",
    "        else:\n",
    "            ascii_val = int(cls)\n",
    "            char = chr(ascii_val) if 32 <= ascii_val <= 126 else cls\n",
    "            print(f\"  Class {cls} → '{char}'\")"
   ]
  },
  {
   "cell_type": "markdown",
   "id": "46e2fb1e",
   "metadata": {},
   "source": [
    "## 4. Load Trained KNN Model"
   ]
  },
  {
   "cell_type": "code",
   "execution_count": 11,
   "id": "1a80051f",
   "metadata": {},
   "outputs": [
    {
     "name": "stdout",
     "output_type": "stream",
     "text": [
      "✓ Model loaded successfully from: /home/ubuntu/Desktop/AIML project/results/KNN/knn_hog_model_48x48.joblib\n",
      "📊 Model type: KNeighborsClassifier\n",
      "🎯 Number of neighbors (k): 5\n",
      "📐 Expected feature dimension: 900\n",
      "\n",
      "✓ Model ready for predictions!\n"
     ]
    }
   ],
   "source": [
    "# Load the trained KNN model\n",
    "try:\n",
    "    knn_model = joblib.load(model_filepath)\n",
    "    print(f\"✓ Model loaded successfully from: {model_filepath}\")\n",
    "    print(f\"📊 Model type: {type(knn_model).__name__}\")\n",
    "    print(f\"🎯 Number of neighbors (k): {knn_model.n_neighbors}\")\n",
    "    print(f\"📐 Expected feature dimension: {knn_model.n_features_in_}\")\n",
    "    print(f\"\\n✓ Model ready for predictions!\")\n",
    "except Exception as e:\n",
    "    print(f\"❌ Error loading model: {str(e)}\")\n",
    "    print(f\"Please check that the model file exists at: {model_filepath}\")"
   ]
  },
  {
   "cell_type": "markdown",
   "id": "e41e1bbb",
   "metadata": {},
   "source": [
    "## 5. Image Preprocessing and HOG Feature Extraction"
   ]
  },
  {
   "cell_type": "code",
   "execution_count": 12,
   "id": "5c389b50",
   "metadata": {},
   "outputs": [
    {
     "name": "stdout",
     "output_type": "stream",
     "text": [
      " Image preprocessing and HOG extraction functions defined\n"
     ]
    }
   ],
   "source": [
    "def load_and_preprocess_image(image_path):\n",
    "    \"\"\"\n",
    "    Load and preprocess image for prediction.\n",
    "    \n",
    "    Args:\n",
    "        image_path: Path to the image file\n",
    "    \n",
    "    Returns:\n",
    "        tuple: (original_image, resized_image) or (None, None) if error\n",
    "    \"\"\"\n",
    "    # Load image in grayscale\n",
    "    img = cv2.imread(image_path, cv2.IMREAD_GRAYSCALE)\n",
    "    \n",
    "    if img is None:\n",
    "        print(f\"❌ Error: Unable to load image from {image_path}\")\n",
    "        return None, None\n",
    "    \n",
    "    # Resize to 48x48\n",
    "    img_resized = cv2.resize(img, (IMG_WIDTH, IMG_HEIGHT))\n",
    "    \n",
    "    return img, img_resized\n",
    "\n",
    "def extract_hog_features(image):\n",
    "    \"\"\"\n",
    "    Extract HOG features from preprocessed image.\n",
    "    \n",
    "    Args:\n",
    "        image: Preprocessed grayscale image (48x48)\n",
    "    \n",
    "    Returns:\n",
    "        HOG feature vector\n",
    "    \"\"\"\n",
    "    features = hog(image, **HOG_PARAMS)\n",
    "    return features\n",
    "\n",
    "print(\" Image preprocessing and HOG extraction functions defined\")"
   ]
  },
  {
   "cell_type": "markdown",
   "id": "6161db97",
   "metadata": {},
   "source": [
    "## 6. Prediction Function with Visualization"
   ]
  },
  {
   "cell_type": "code",
   "execution_count": 13,
   "id": "ac35dd12",
   "metadata": {},
   "outputs": [
    {
     "name": "stdout",
     "output_type": "stream",
     "text": [
      "✓ Prediction function defined\n"
     ]
    }
   ],
   "source": [
    "def predict_image_with_details(image_path, show_neighbors=5, show_full_details=False):\n",
    "    \"\"\"\n",
    "    Predict image class and show detailed results with visualization.\n",
    "    \n",
    "    Args:\n",
    "        image_path: Path to the image to predict\n",
    "        show_neighbors: Number of nearest neighbors to show (default: 5)\n",
    "        show_full_details: If True, shows neighbor distances and voting details. If False, shows only percentages (default: False)\n",
    "    \"\"\"\n",
    "    # Check if image exists\n",
    "    if not os.path.exists(image_path):\n",
    "        print(f\"❌ Image not found: {image_path}\")\n",
    "        return\n",
    "    \n",
    "    # Load and preprocess image\n",
    "    original_img, resized_img = load_and_preprocess_image(image_path)\n",
    "    \n",
    "    if original_img is None:\n",
    "        return\n",
    "    \n",
    "    # Extract HOG features\n",
    "    hog_features = extract_hog_features(resized_img)\n",
    "    \n",
    "    # Reshape for prediction (models expect 2D array)\n",
    "    features_reshaped = hog_features.reshape(1, -1)\n",
    "    \n",
    "    # Get prediction and probabilities\n",
    "    predicted_class = knn_model.predict(features_reshaped)[0]\n",
    "    \n",
    "    # Get distances and indices of k nearest neighbors\n",
    "    distances, indices = knn_model.kneighbors(features_reshaped, n_neighbors=show_neighbors)\n",
    "    \n",
    "    # Get neighbor labels and map them to actual class labels (ASCII codes)\n",
    "    # The model's classes_ attribute contains the mapping from indices to ASCII codes\n",
    "    neighbor_indices = knn_model._y[indices[0]]\n",
    "    if hasattr(knn_model, 'classes_'):\n",
    "        # Map neighbor indices to actual ASCII codes\n",
    "        neighbor_labels = np.array([knn_model.classes_[idx] for idx in neighbor_indices])\n",
    "    else:\n",
    "        # Fallback: assume labels are already ASCII codes\n",
    "        neighbor_labels = neighbor_indices\n",
    "    \n",
    "    # Convert predicted class to character\n",
    "    if predicted_class == 999:\n",
    "        predicted_char = 'NULL'\n",
    "    elif predicted_class == 0:\n",
    "        predicted_char = 'NULL'  # ASCII 0 is null character\n",
    "    elif 32 <= predicted_class <= 126:\n",
    "        predicted_char = chr(predicted_class)  # Printable ASCII\n",
    "    else:\n",
    "        predicted_char = f'[ASCII {predicted_class}]'  # Non-printable\n",
    "    \n",
    "    # Convert neighbor labels to characters\n",
    "    neighbor_chars = []\n",
    "    for label in neighbor_labels:\n",
    "        if label == 999:\n",
    "            neighbor_chars.append('NULL')\n",
    "        elif label == 0:\n",
    "            neighbor_chars.append('NULL')  # ASCII 0 is null character\n",
    "        elif 32 <= label <= 126:\n",
    "            neighbor_chars.append(chr(label))\n",
    "        else:\n",
    "            neighbor_chars.append(f'[ASCII {label}]')\n",
    "    \n",
    "    # Count votes for each class among neighbors\n",
    "    from collections import Counter\n",
    "    vote_counts = Counter(neighbor_labels)\n",
    "    total_votes = len(neighbor_labels)\n",
    "    \n",
    "    # Visualization\n",
    "    fig = plt.figure(figsize=(16, 5))\n",
    "    \n",
    "    # 1. Original image\n",
    "    ax1 = plt.subplot(1, 4, 1)\n",
    "    plt.imshow(original_img, cmap='gray')\n",
    "    plt.title(f'Original Image\\n{original_img.shape[1]}x{original_img.shape[0]}', \n",
    "              fontsize=11, fontweight='bold')\n",
    "    plt.axis('off')\n",
    "    \n",
    "    # 2. Resized image\n",
    "    ax2 = plt.subplot(1, 4, 2)\n",
    "    plt.imshow(resized_img, cmap='gray')\n",
    "    plt.title(f'Preprocessed\\n{IMG_HEIGHT}x{IMG_WIDTH} Grayscale', \n",
    "              fontsize=11, fontweight='bold')\n",
    "    plt.axis('off')\n",
    "    \n",
    "    # 3. HOG visualization\n",
    "    ax3 = plt.subplot(1, 4, 3)\n",
    "    hog_features_viz, hog_image = hog(\n",
    "        resized_img, \n",
    "        orientations=HOG_PARAMS['orientations'],\n",
    "        pixels_per_cell=HOG_PARAMS['pixels_per_cell'],\n",
    "        cells_per_block=HOG_PARAMS['cells_per_block'],\n",
    "        visualize=True\n",
    "    )\n",
    "    plt.imshow(hog_image, cmap='gray')\n",
    "    plt.title(f'HOG Features\\n{len(hog_features)} dimensions', \n",
    "              fontsize=11, fontweight='bold')\n",
    "    plt.axis('off')\n",
    "    \n",
    "    # 4. Nearest neighbors voting\n",
    "    ax4 = plt.subplot(1, 4, 4)\n",
    "    vote_data = sorted(vote_counts.items(), key=lambda x: x[1], reverse=True)[:5]\n",
    "    labels_to_plot = []\n",
    "    counts_to_plot = []\n",
    "    \n",
    "    for label, count in vote_data:\n",
    "        if label == 999:\n",
    "            char = 'NULL'\n",
    "        elif label == 0:\n",
    "            char = 'NULL'\n",
    "        elif 32 <= label <= 126:\n",
    "            char = chr(label)\n",
    "        else:\n",
    "            char = f'[{label}]'\n",
    "        labels_to_plot.append(f\"{char}\\n({label})\")\n",
    "        counts_to_plot.append(count)\n",
    "    \n",
    "    colors = ['green' if i == 0 else 'lightblue' for i in range(len(labels_to_plot))]\n",
    "    bars = plt.barh(range(len(labels_to_plot)), counts_to_plot, color=colors, alpha=0.8)\n",
    "    plt.yticks(range(len(labels_to_plot)), labels_to_plot, fontsize=9)\n",
    "    plt.xlabel('Votes from K Nearest Neighbors', fontsize=10)\n",
    "    plt.title(f'Top Predictions\\n(k={show_neighbors})', fontsize=11, fontweight='bold')\n",
    "    plt.xlim(0, show_neighbors)\n",
    "    plt.gca().invert_yaxis()\n",
    "    \n",
    "    # Add count labels on bars\n",
    "    for i, count in enumerate(counts_to_plot):\n",
    "        plt.text(count + 0.1, i, f'{count}', va='center', fontsize=9)\n",
    "    \n",
    "    plt.tight_layout()\n",
    "    plt.show()\n",
    "    \n",
    "    # Print prediction summary - Simple version (only percentages)\n",
    "    if not show_full_details:\n",
    "        print(\"\\n\" + \"=\"*70)\n",
    "        print(f\"🎯 PREDICTING IMAGE: {os.path.basename(image_path)}\")\n",
    "        print(\"=\"*70)\n",
    "        \n",
    "        # Display the actual predicted character based on model prediction\n",
    "        print(f\"\\n🎯 Predicted Character: '{predicted_char}' (ASCII: {predicted_class})\")\n",
    "        \n",
    "        # Get top 5 predictions sorted by vote count\n",
    "        top_5_predictions = sorted(vote_counts.items(), key=lambda x: x[1], reverse=True)[:5]\n",
    "        \n",
    "        print(f\"\\n🏆 TOP {min(5, len(top_5_predictions))} PREDICTIONS (from {show_neighbors} neighbors):\")\n",
    "        for rank, (label, count) in enumerate(top_5_predictions, 1):\n",
    "            if label == 999:\n",
    "                char = 'NULL'\n",
    "            elif 32 <= label <= 126:\n",
    "                # Printable ASCII character\n",
    "                char = chr(label)\n",
    "            elif label == 0:\n",
    "                char = 'NULL'  # ASCII 0 is null character\n",
    "            else:\n",
    "                # Non-printable character, show ASCII code\n",
    "                char = f'[ASCII {label}]'\n",
    "            percentage = 100 * count / total_votes\n",
    "            \n",
    "            # Mark the actual prediction with an indicator\n",
    "            marker = \" ← PREDICTED\" if label == predicted_class else \"\"\n",
    "            print(f\"   {rank}. '{char}' (ASCII: {label}) - {percentage:.2f}%{marker}\")\n",
    "        print(\"=\"*70)\n",
    "    else:\n",
    "        # Print full details version\n",
    "        print(\"\\n\" + \"=\"*80)\n",
    "        print(\"🎯 PREDICTION RESULT\")\n",
    "        print(\"=\"*80)\n",
    "        print(f\"Image: {os.path.basename(image_path)}\")\n",
    "        print(f\"Original Size: {original_img.shape[1]}x{original_img.shape[0]}\")\n",
    "        print(f\"Preprocessed Size: {IMG_HEIGHT}x{IMG_WIDTH}\")\n",
    "        print(f\"HOG Feature Dimension: {len(hog_features)}\")\n",
    "        print(\"-\" * 80)\n",
    "        print(f\"Predicted Character: '{predicted_char}'\")\n",
    "        print(f\"Predicted Class (ASCII): {predicted_class}\")\n",
    "        print(f\"Confidence: {vote_counts[predicted_class]}/{total_votes} neighbors agree ({100*vote_counts[predicted_class]/total_votes:.1f}%)\")\n",
    "        print(\"=\"*80)\n",
    "        \n",
    "        print(f\"\\n📊 K-Nearest Neighbors (k={show_neighbors}):\")\n",
    "        for i, (label, char, dist) in enumerate(zip(neighbor_labels, neighbor_chars, distances[0]), 1):\n",
    "            print(f\"  {i}. '{char}' (class: {label}) - Distance: {dist:.4f}\")\n",
    "        \n",
    "        print(\"\\n🗳️  Voting Summary:\")\n",
    "        for label, count in sorted(vote_counts.items(), key=lambda x: x[1], reverse=True):\n",
    "            if label == 999:\n",
    "                char = 'Null'\n",
    "            else:\n",
    "                char = chr(label) if 32 <= label <= 126 else str(label)\n",
    "            print(f\"  '{char}' (class: {label}): {count} votes ({100*count/total_votes:.1f}%)\")\n",
    "        print(\"=\"*80)\n",
    "\n",
    "print(\"✓ Prediction function defined\")"
   ]
  },
  {
   "cell_type": "markdown",
   "id": "ab689514",
   "metadata": {},
   "source": [
    "## 7. Predict Single Custom Image\n",
    "\n",
    "**Change the image path below to predict your own image!**"
   ]
  },
  {
   "cell_type": "code",
   "execution_count": 14,
   "id": "71e6c392",
   "metadata": {},
   "outputs": [
    {
     "data": {
      "image/png": "[encoded data removed]",
      "text/plain": [
       "<Figure size 1600x500 with 4 Axes>"
      ]
     },
     "metadata": {},
     "output_type": "display_data"
    },
    {
     "name": "stdout",
     "output_type": "stream",
     "text": [
      "\n",
      "======================================================================\n",
      "🎯 PREDICTING IMAGE: asaad.png\n",
      "======================================================================\n",
      "\n",
      "🎯 Predicted Character: 'Q' (ASCII: 81)\n",
      "\n",
      "🏆 TOP 1 PREDICTIONS (from 5 neighbors):\n",
      "   1. 'Q' (ASCII: 81) - 100.00% ← PREDICTED\n",
      "======================================================================\n"
     ]
    }
   ],
   "source": [
    "# CHANGE THIS PATH TO YOUR IMAGE\n",
    "custom_image_path = '/home/ubuntu/Pictures/asaad.png'\n",
    "\n",
    "# Run prediction with simple output (only percentages)\n",
    "predict_image_with_details(custom_image_path, show_neighbors=5, show_full_details=False)\n",
    "\n",
    "# If you want to see full details with distances and neighbor info, use:\n",
    "# predict_image_with_details(custom_image_path, show_neighbors=5, show_full_details=True)"
   ]
  }
 ],
 "metadata": {
  "kernelspec": {
   "display_name": "rapids-env",
   "language": "python",
   "name": "python3"
  },
  "language_info": {
   "codemirror_mode": {
    "name": "ipython",
    "version": 3
   },
   "file_extension": ".py",
   "mimetype": "text/x-python",
   "name": "python",
   "nbconvert_exporter": "python",
   "pygments_lexer": "ipython3",
   "version": "3.9.20"
  }
 },
 "nbformat": 4,
 "nbformat_minor": 5
}
