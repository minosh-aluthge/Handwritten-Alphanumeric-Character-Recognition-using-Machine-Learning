{
 "cells": [
  {
   "cell_type": "markdown",
   "id": "4f2639f1",
   "metadata": {},
   "source": [
    "# Vision Transformer (ViT) Image Predictor\n",
    "\n",
    "This notebook loads a pre-trained Vision Transformer model and makes predictions on images.\n",
    "\n",
    "## Features:\n",
    "- ✅ Load saved ViT model\n",
    "- ✅ Predict single images from file path\n",
    "- ✅ Batch prediction with visualization\n",
    "- ✅ Confidence scores and detailed results\n",
    "- ✅ Support for custom image paths"
   ]
  },
  {
   "cell_type": "markdown",
   "id": "a90b7ca5",
   "metadata": {},
   "source": [
    "## 1. Setup and Import Libraries"
   ]
  },
  {
   "cell_type": "code",
   "execution_count": 1,
   "id": "0654387f",
   "metadata": {},
   "outputs": [
    {
     "name": "stderr",
     "output_type": "stream",
     "text": [
      "/home/ubuntu/anaconda3/envs/rapids-env/lib/python3.9/site-packages/torchvision/io/image.py:13: UserWarning: Failed to load image Python extension: '/home/ubuntu/anaconda3/envs/rapids-env/lib/python3.9/site-packages/torchvision/image.so: undefined symbol: _ZN3c1017RegisterOperatorsD1Ev'If you don't plan on using image functionality from `torchvision.io`, you can ignore this warning. Otherwise, there might be something wrong with your environment. Did you have `libjpeg` or `libpng` installed before building `torchvision` from source?\n",
      "  warn(\n",
      "/home/ubuntu/anaconda3/envs/rapids-env/lib/python3.9/site-packages/tqdm/auto.py:21: TqdmWarning: IProgress not found. Please update jupyter and ipywidgets. See https://ipywidgets.readthedocs.io/en/stable/user_install.html\n",
      "  from .autonotebook import tqdm as notebook_tqdm\n"
     ]
    },
    {
     "name": "stdout",
     "output_type": "stream",
     "text": [
      "PyTorch version: 2.5.1\n",
      "CUDA available: True\n",
      "GPU: NVIDIA GeForce RTX 3060 Ti\n",
      "\n",
      "Using device: cuda\n"
     ]
    }
   ],
   "source": [
    "import torch\n",
    "import torch.nn as nn\n",
    "import torch.nn.functional as F\n",
    "from torchvision import datasets, transforms\n",
    "from torch.utils.data import DataLoader\n",
    "import timm\n",
    "import matplotlib.pyplot as plt\n",
    "from PIL import Image\n",
    "import os\n",
    "import json\n",
    "from tqdm import tqdm\n",
    "\n",
    "# Check GPU availability\n",
    "print(f\"PyTorch version: {torch.__version__}\")\n",
    "print(f\"CUDA available: {torch.cuda.is_available()}\")\n",
    "if torch.cuda.is_available():\n",
    "    print(f\"GPU: {torch.cuda.get_device_name(0)}\")\n",
    "\n",
    "# Set device\n",
    "device = torch.device('cuda' if torch.cuda.is_available() else 'cpu')\n",
    "print(f\"\\nUsing device: {device}\")"
   ]
  },
  {
   "cell_type": "markdown",
   "id": "a00abb95",
   "metadata": {},
   "source": [
    "## 2. Configuration and Paths"
   ]
  },
  {
   "cell_type": "code",
   "execution_count": 2,
   "id": "130c3c80",
   "metadata": {},
   "outputs": [
    {
     "name": "stdout",
     "output_type": "stream",
     "text": [
      "Model Path: /home/ubuntu/Desktop/AIML project/results/ViT/vit_model.pth\n",
      "Classes Path: /home/ubuntu/Desktop/AIML project/results/ViT/classes.txt\n",
      "Image Size: 48x48\n",
      "\n",
      "Model file exists: True\n",
      "Classes file exists: True\n"
     ]
    }
   ],
   "source": [
    "# Paths\n",
    "#BASE_PATH = '/media/ubuntu/NVME/AIML project/AlphaNum2'\n",
    "#TEST_PATH = os.path.join(BASE_PATH, 'test')\n",
    "RESULTS_PATH = \"/home/ubuntu/Desktop/AIML project/results/ViT\"\n",
    "\n",
    "# Model files\n",
    "MODEL_PATH = os.path.join(RESULTS_PATH, 'vit_model.pth')\n",
    "CLASSES_PATH = os.path.join(RESULTS_PATH, 'classes.txt')\n",
    "\n",
    "# Image size (must match training)\n",
    "IMG_SIZE = 48\n",
    "\n",
    "print(f\"Model Path: {MODEL_PATH}\")\n",
    "print(f\"Classes Path: {CLASSES_PATH}\")\n",
    "#print(f\"Test Path: {TEST_PATH}\")\n",
    "print(f\"Image Size: {IMG_SIZE}x{IMG_SIZE}\")\n",
    "print(f\"\\nModel file exists: {os.path.exists(MODEL_PATH)}\")\n",
    "print(f\"Classes file exists: {os.path.exists(CLASSES_PATH)}\")"
   ]
  },
  {
   "cell_type": "markdown",
   "id": "42b86620",
   "metadata": {},
   "source": [
    "## 3. Define Image Transforms"
   ]
  },
  {
   "cell_type": "code",
   "execution_count": 3,
   "id": "efa862aa",
   "metadata": {},
   "outputs": [
    {
     "name": "stdout",
     "output_type": "stream",
     "text": [
      "Image transform pipeline:\n",
      "  1. Convert to grayscale\n",
      "  2. Resize to 48x48\n",
      "  3. Convert to tensor\n",
      "  4. Normalize (mean=0.5, std=0.5)\n"
     ]
    }
   ],
   "source": [
    "# Image transforms (must match training)\n",
    "transform = transforms.Compose([\n",
    "    transforms.Grayscale(num_output_channels=1),\n",
    "    transforms.Resize((IMG_SIZE, IMG_SIZE)),\n",
    "    transforms.ToTensor(),\n",
    "    transforms.Normalize(mean=[0.5], std=[0.5])\n",
    "])\n",
    "\n",
    "print(\"Image transform pipeline:\")\n",
    "print(\"  1. Convert to grayscale\")\n",
    "print(f\"  2. Resize to {IMG_SIZE}x{IMG_SIZE}\")\n",
    "print(\"  3. Convert to tensor\")\n",
    "print(\"  4. Normalize (mean=0.5, std=0.5)\")"
   ]
  },
  {
   "cell_type": "markdown",
   "id": "1858bb4a",
   "metadata": {},
   "source": [
    "## 4. Load Class Names"
   ]
  },
  {
   "cell_type": "code",
   "execution_count": 4,
   "id": "92bfa58d",
   "metadata": {},
   "outputs": [
    {
     "name": "stdout",
     "output_type": "stream",
     "text": [
      "Number of classes: 53\n",
      "\n",
      "First 10 classes: ['100', '101', '102', '103', '104', '105', '106', '107', '108', '109']\n",
      "Last 10 classes: ['85', '86', '87', '88', '89', '90', '97', '98', '99', '999']\n",
      "\n",
      "Sample class mappings:\n",
      "  Class 100 → 'd'\n",
      "  Class 110 → 'n'\n",
      "  Class 67 → 'C'\n",
      "  Class 77 → 'M'\n",
      "  Class 98 → 'b'\n",
      "  Class 999 → 'NULL/Invalid'\n"
     ]
    }
   ],
   "source": [
    "# Load class names\n",
    "with open(CLASSES_PATH, 'r') as f:\n",
    "    class_names = f.read().strip().split('\\n')\n",
    "\n",
    "num_classes = len(class_names)\n",
    "\n",
    "print(f\"Number of classes: {num_classes}\")\n",
    "print(f\"\\nFirst 10 classes: {class_names[:10]}\")\n",
    "print(f\"Last 10 classes: {class_names[-10:]}\")\n",
    "\n",
    "# Show character representation\n",
    "print(\"\\nSample class mappings:\")\n",
    "for i in [0, 10, 25, 35, 50, -1]:\n",
    "    cls = class_names[i]\n",
    "    char = chr(int(cls)) if cls != '999' else 'NULL/Invalid'\n",
    "    print(f\"  Class {cls} → '{char}'\")"
   ]
  },
  {
   "cell_type": "markdown",
   "id": "61b5b35d",
   "metadata": {},
   "source": [
    "## 5. Define and Load Model"
   ]
  },
  {
   "cell_type": "code",
   "execution_count": 5,
   "id": "7ae75f8d",
   "metadata": {},
   "outputs": [
    {
     "name": "stdout",
     "output_type": "stream",
     "text": [
      "Creating ViT model architecture...\n",
      "Loading model weights from: /home/ubuntu/Desktop/AIML project/results/ViT/vit_model.pth\n"
     ]
    },
    {
     "name": "stderr",
     "output_type": "stream",
     "text": [
      "/tmp/ipykernel_4847/1660097977.py:18: FutureWarning: You are using `torch.load` with `weights_only=False` (the current default value), which uses the default pickle module implicitly. It is possible to construct malicious pickle data which will execute arbitrary code during unpickling (See https://github.com/pytorch/pytorch/blob/main/SECURITY.md#untrusted-models for more details). In a future release, the default value for `weights_only` will be flipped to `True`. This limits the functions that could be executed during unpickling. Arbitrary objects will no longer be allowed to be loaded via this mode unless they are explicitly allowlisted by the user via `torch.serialization.add_safe_globals`. We recommend you start setting `weights_only=True` for any use case where you don't have full control of the loaded file. Please open an issue on GitHub for any issues related to this experimental feature.\n",
      "  model.load_state_dict(torch.load(MODEL_PATH, map_location=device))\n"
     ]
    },
    {
     "name": "stdout",
     "output_type": "stream",
     "text": [
      "\n",
      " Model loaded successfully!\n",
      "   Architecture: ViT-Tiny\n",
      "   Parameters: 5,400,437\n",
      "   Device: cuda\n",
      "   Classes: 53\n"
     ]
    }
   ],
   "source": [
    "# Create Vision Transformer model architecture\n",
    "def create_vit_model(num_classes, img_size=48):\n",
    "    model = timm.create_model(\n",
    "        'vit_tiny_patch16_224',\n",
    "        pretrained=False,\n",
    "        num_classes=num_classes,\n",
    "        img_size=img_size,\n",
    "        in_chans=1\n",
    "    )\n",
    "    return model\n",
    "\n",
    "# Create model\n",
    "print(\"Creating ViT model architecture...\")\n",
    "model = create_vit_model(num_classes, img_size=IMG_SIZE)\n",
    "\n",
    "# Load trained weights\n",
    "print(f\"Loading model weights from: {MODEL_PATH}\")\n",
    "model.load_state_dict(torch.load(MODEL_PATH, map_location=device))\n",
    "model = model.to(device)\n",
    "model.eval()\n",
    "\n",
    "# Count parameters\n",
    "total_params = sum(p.numel() for p in model.parameters())\n",
    "print(f\"\\n Model loaded successfully!\")\n",
    "print(f\"   Architecture: ViT-Tiny\")\n",
    "print(f\"   Parameters: {total_params:,}\")\n",
    "print(f\"   Device: {device}\")\n",
    "print(f\"   Classes: {num_classes}\")"
   ]
  },
  {
   "cell_type": "markdown",
   "id": "699c6fba",
   "metadata": {},
   "source": [
    "## 6. Single Image Prediction Function"
   ]
  },
  {
   "cell_type": "code",
   "execution_count": 6,
   "id": "61ec7f4b",
   "metadata": {},
   "outputs": [
    {
     "name": "stdout",
     "output_type": "stream",
     "text": [
      " Prediction function defined!\n"
     ]
    }
   ],
   "source": [
    "def predict_single_image(model, image_path, transform, class_names, device, show_viz=True):\n",
    "    \"\"\"\n",
    "    Predict a single image from file path.\n",
    "    \n",
    "    Args:\n",
    "        model: Trained model\n",
    "        image_path: Path to image file\n",
    "        transform: Image transformation pipeline\n",
    "        class_names: List of class names\n",
    "        device: Computation device (cuda/cpu)\n",
    "        show_viz: Show visualization\n",
    "    \n",
    "    Returns:\n",
    "        predicted_class, confidence, predicted_character\n",
    "    \"\"\"\n",
    "    # Check if file exists\n",
    "    if not os.path.exists(image_path):\n",
    "        print(f\" Error: File not found at '{image_path}'\")\n",
    "        print(\"Please check the path and try again.\")\n",
    "        return None, None, None\n",
    "    \n",
    "    try:\n",
    "        # Load and preprocess image\n",
    "        image = Image.open(image_path).convert('RGB')\n",
    "        original_image = image.copy()\n",
    "        \n",
    "        # Apply transforms\n",
    "        input_tensor = transform(image).unsqueeze(0).to(device)\n",
    "        \n",
    "        # Make prediction\n",
    "        model.eval()\n",
    "        with torch.no_grad():\n",
    "            output = model(input_tensor)\n",
    "            probs = F.softmax(output, dim=1)\n",
    "            confidence, predicted_idx = torch.max(probs, 1)\n",
    "        \n",
    "        # Get results\n",
    "        pred_class = class_names[predicted_idx.item()]\n",
    "        conf_percent = confidence.item() * 100\n",
    "        pred_char = chr(int(pred_class)) if pred_class != '999' else 'NULL/Invalid'\n",
    "        \n",
    "        if show_viz:\n",
    "            # Visualize\n",
    "            fig, axes = plt.subplots(1, 2, figsize=(12, 5))\n",
    "            \n",
    "            # Original image\n",
    "            axes[0].imshow(original_image, cmap='gray')\n",
    "            axes[0].set_title('Original Image', fontsize=14, fontweight='bold')\n",
    "            axes[0].axis('off')\n",
    "            \n",
    "            # Processed image\n",
    "            processed_img = input_tensor.cpu().squeeze().numpy()\n",
    "            axes[1].imshow(processed_img, cmap='gray')\n",
    "            axes[1].set_title(f'Processed ({IMG_SIZE}x{IMG_SIZE})', fontsize=14, fontweight='bold')\n",
    "            axes[1].axis('off')\n",
    "            \n",
    "            # Add prediction text with large, clear formatting\n",
    "            confidence_color = 'green' if conf_percent > 80 else 'orange' if conf_percent > 60 else 'red'\n",
    "            fig.suptitle(f'Predicted: \"{pred_char}\" | Confidence: {conf_percent:.2f}%', \n",
    "                         fontsize=18, fontweight='bold', color=confidence_color)\n",
    "            plt.tight_layout()\n",
    "            plt.show()\n",
    "        \n",
    "        # Print detailed results\n",
    "        print(\"\\n\" + \"=\"*70)\n",
    "        print(\"                      PREDICTION RESULTS\")\n",
    "        print(\"=\"*70)\n",
    "        print(f\" Image Path:           {image_path}\")\n",
    "        print(f\" Predicted Character:  '{pred_char}'\")\n",
    "        print(f\"  ASCII Code:            {pred_class}\")\n",
    "        print(f\" Confidence:           {conf_percent:.2f}%\")\n",
    "        confidence_bar = \"█\" * int(conf_percent // 5) + \"░\" * (20 - int(conf_percent // 5))\n",
    "        print(f\" Confidence Bar:       [{confidence_bar}]\")\n",
    "        print(f\" Confidence Level:     {'✅ High' if conf_percent > 90 else '⚠️ Medium' if conf_percent > 70 else '❌ Low'}\")\n",
    "        print(\"=\"*70 + \"\\n\")\n",
    "        \n",
    "        return pred_class, conf_percent, pred_char\n",
    "        \n",
    "    except Exception as e:\n",
    "        print(f\" Error: {e}\")\n",
    "        print(\"Make sure the file is a valid image format (PNG, JPG, JPEG, etc.)\")\n",
    "        return None, None, None\n",
    "\n",
    "print(\" Prediction function defined!\")"
   ]
  },
  {
   "cell_type": "markdown",
   "id": "5dc7ab01",
   "metadata": {},
   "source": [
    "## 7. Predict Custom Image\n",
    "\n",
    "**Change the `IMAGE_PATH` variable below to predict your own image!**"
   ]
  },
  {
   "cell_type": "code",
   "execution_count": 7,
   "id": "847cb1d1",
   "metadata": {},
   "outputs": [
    {
     "name": "stdout",
     "output_type": "stream",
     "text": [
      "🔍 Loading image from: /home/ubuntu/Pictures/asaad.png\n",
      "\n"
     ]
    },
    {
     "data": {
      "image/png": "[encoded data removed]",
      "text/plain": [
       "<Figure size 1200x500 with 2 Axes>"
      ]
     },
     "metadata": {},
     "output_type": "display_data"
    },
    {
     "name": "stdout",
     "output_type": "stream",
     "text": [
      "\n",
      "======================================================================\n",
      "                      PREDICTION RESULTS\n",
      "======================================================================\n",
      " Image Path:           /home/ubuntu/Pictures/asaad.png\n",
      " Predicted Character:  'Q'\n",
      "  ASCII Code:            81\n",
      " Confidence:           97.95%\n",
      " Confidence Bar:       [███████████████████░]\n",
      " Confidence Level:     ✅ High\n",
      "======================================================================\n",
      "\n",
      "✅ Prediction complete! The model predicts: 'Q' with 98.0% confidence\n"
     ]
    }
   ],
   "source": [
    "# ============================================================================\n",
    "#  CUSTOM IMAGE PATH - CHANGE THIS TO YOUR IMAGE FILE\n",
    "# ============================================================================\n",
    "# Examples:\n",
    "#   - Linux:   '/home/username/Pictures/my_image.png'\n",
    "#   - Windows: 'C:/Users/username/Pictures/my_image.png'\n",
    "#   - Test:    '/media/ubuntu/NVME/AIML project/AlphaNum2/test/65/image_001.jpg'\n",
    "\n",
    "IMAGE_PATH = '/home/ubuntu/Pictures/asaad.png'  #  CHANGE THIS PATH\n",
    "\n",
    "# ============================================================================\n",
    "\n",
    "print(f\"🔍 Loading image from: {IMAGE_PATH}\\n\")\n",
    "predicted_class, confidence, predicted_char = predict_single_image(\n",
    "    model=model,\n",
    "    image_path=IMAGE_PATH,\n",
    "    transform=transform,\n",
    "    class_names=class_names,\n",
    "    device=device,\n",
    "    show_viz=True\n",
    ")\n",
    "\n",
    "if predicted_char:\n",
    "    print(f\"✅ Prediction complete! The model predicts: '{predicted_char}' with {confidence:.1f}% confidence\")"
   ]
  }
 ],
 "metadata": {
  "kernelspec": {
   "display_name": "rapids-env",
   "language": "python",
   "name": "python3"
  },
  "language_info": {
   "codemirror_mode": {
    "name": "ipython",
    "version": 3
   },
   "file_extension": ".py",
   "mimetype": "text/x-python",
   "name": "python",
   "nbconvert_exporter": "python",
   "pygments_lexer": "ipython3",
   "version": "3.9.20"
  }
 },
 "nbformat": 4,
 "nbformat_minor": 5
}
