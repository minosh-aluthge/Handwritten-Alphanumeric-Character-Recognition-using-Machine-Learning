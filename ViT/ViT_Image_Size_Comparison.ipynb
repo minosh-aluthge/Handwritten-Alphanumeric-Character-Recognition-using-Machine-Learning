{
 "cells": [
  {
   "cell_type": "markdown",
   "id": "5e0b4e4e",
   "metadata": {},
   "source": [
    "# Vision Transformer: Image Size Comparison (64x64 vs 128x128)\n",
    "\n",
    "This notebook compares the performance of Vision Transformer models trained on different image resolutions:\n",
    "- **64x64**: Higher resolution than original 48x48, should capture more detail\n",
    "- **128x128**: Even higher resolution, but may cause overfitting with limited data\n",
    "\n",
    "We'll train both models with identical hyperparameters and compare:\n",
    "1. **Accuracy**: Final test accuracy for each model\n",
    "2. **Training Time**: Time per epoch and total training time\n",
    "3. **Model Size**: Number of parameters and memory usage\n",
    "4. **Overfitting**: Train-validation gap analysis\n",
    "5. **Convergence**: How quickly each model reaches optimal performance"
   ]
  },
  {
   "cell_type": "markdown",
   "id": "105ac4db",
   "metadata": {},
   "source": [
    "## 1. Import Libraries and Setup"
   ]
  },
  {
   "cell_type": "code",
   "execution_count": 13,
   "id": "be987a43",
   "metadata": {},
   "outputs": [
    {
     "name": "stdout",
     "output_type": "stream",
     "text": [
      "PyTorch version: 2.5.1\n",
      "Using device: cuda\n",
      "GPU: NVIDIA GeForce RTX 3060 Ti\n"
     ]
    }
   ],
   "source": [
    "import torch\n",
    "import torch.nn as nn\n",
    "import torch.optim as optim\n",
    "from torch.utils.data import DataLoader\n",
    "from torchvision import datasets, transforms\n",
    "import timm\n",
    "import matplotlib.pyplot as plt\n",
    "import numpy as np\n",
    "import time\n",
    "import copy\n",
    "from tqdm import tqdm\n",
    "import os\n",
    "\n",
    "# Check GPU\n",
    "device = torch.device(\"cuda\" if torch.cuda.is_available() else \"cpu\")\n",
    "print(f\"PyTorch version: {torch.__version__}\")\n",
    "print(f\"Using device: {device}\")\n",
    "if torch.cuda.is_available():\n",
    "    print(f\"GPU: {torch.cuda.get_device_name(0)}\")"
   ]
  },
  {
   "cell_type": "markdown",
   "id": "ab8756da",
   "metadata": {},
   "source": [
    "## 2. Dataset Configuration"
   ]
  },
  {
   "cell_type": "code",
   "execution_count": 14,
   "id": "eaa824ec",
   "metadata": {},
   "outputs": [
    {
     "name": "stdout",
     "output_type": "stream",
     "text": [
      "Dataset: /media/ubuntu/NVME/AIML project/AlphaNum2\n",
      "Train: /media/ubuntu/NVME/AIML project/AlphaNum2/train\n",
      "Validation: /media/ubuntu/NVME/AIML project/AlphaNum2/validation\n",
      "Test: /media/ubuntu/NVME/AIML project/AlphaNum2/test\n"
     ]
    }
   ],
   "source": [
    "# Dataset paths\n",
    "BASE_PATH = \"/media/ubuntu/NVME/AIML project/AlphaNum2\"\n",
    "TRAIN_PATH = os.path.join(BASE_PATH, \"train\")\n",
    "VALIDATION_PATH = os.path.join(BASE_PATH, \"validation\")\n",
    "TEST_PATH = os.path.join(BASE_PATH, \"test\")\n",
    "\n",
    "print(f\"Dataset: {BASE_PATH}\")\n",
    "print(f\"Train: {TRAIN_PATH}\")\n",
    "print(f\"Validation: {VALIDATION_PATH}\")\n",
    "print(f\"Test: {TEST_PATH}\")"
   ]
  },
  {
   "cell_type": "markdown",
   "id": "dfec066d",
   "metadata": {},
   "source": [
    "## 3. Shared Training Configuration"
   ]
  },
  {
   "cell_type": "code",
   "execution_count": 15,
   "id": "fd86d6bc",
   "metadata": {},
   "outputs": [
    {
     "name": "stdout",
     "output_type": "stream",
     "text": [
      "Training Configuration:\n",
      "  Batch Size: 64\n",
      "  Max Epochs: 30\n",
      "  Learning Rate: 0.0001\n",
      "  Weight Decay: 0.01\n",
      "  Early Stopping Patience: 5\n"
     ]
    }
   ],
   "source": [
    "# Hyperparameters (same for both models)\n",
    "BATCH_SIZE = 64\n",
    "MAX_EPOCHS = 30\n",
    "LEARNING_RATE = 0.0001\n",
    "WEIGHT_DECAY = 0.01\n",
    "EARLY_STOPPING_PATIENCE = 5\n",
    "MIN_DELTA = 0.001\n",
    "\n",
    "print(\"Training Configuration:\")\n",
    "print(f\"  Batch Size: {BATCH_SIZE}\")\n",
    "print(f\"  Max Epochs: {MAX_EPOCHS}\")\n",
    "print(f\"  Learning Rate: {LEARNING_RATE}\")\n",
    "print(f\"  Weight Decay: {WEIGHT_DECAY}\")\n",
    "print(f\"  Early Stopping Patience: {EARLY_STOPPING_PATIENCE}\")"
   ]
  },
  {
   "cell_type": "markdown",
   "id": "5d1f6a51",
   "metadata": {},
   "source": [
    "## 4. Helper Functions"
   ]
  },
  {
   "cell_type": "code",
   "execution_count": 16,
   "id": "57576820",
   "metadata": {},
   "outputs": [
    {
     "name": "stdout",
     "output_type": "stream",
     "text": [
      "✓ Helper functions defined\n"
     ]
    }
   ],
   "source": [
    "def load_dataset(path, transform):\n",
    "    \"\"\"Load dataset with sorted classes.\"\"\"\n",
    "    dataset = datasets.ImageFolder(root=path, transform=transform)\n",
    "    classes = sorted(dataset.classes)\n",
    "    class_to_idx = {cls: idx for idx, cls in enumerate(classes)}\n",
    "    samples = [(p, class_to_idx[dataset.classes[k]]) for p, k in dataset.samples]\n",
    "    dataset.classes = classes\n",
    "    dataset.class_to_idx = class_to_idx\n",
    "    dataset.samples = samples\n",
    "    dataset.targets = [s[1] for s in samples]\n",
    "    return dataset\n",
    "\n",
    "def create_vit_model(num_classes, img_size):\n",
    "    \"\"\"Create Vision Transformer model.\"\"\"\n",
    "    model = timm.create_model(\n",
    "        'vit_tiny_patch16_224',\n",
    "        pretrained=False,\n",
    "        num_classes=num_classes,\n",
    "        img_size=img_size,\n",
    "        in_chans=1  # Grayscale\n",
    "    )\n",
    "    return model\n",
    "\n",
    "def train_model(model, train_loader, val_loader, device, config):\n",
    "    \"\"\"Train model with early stopping.\"\"\"\n",
    "    criterion = nn.CrossEntropyLoss()\n",
    "    optimizer = optim.AdamW(model.parameters(), \n",
    "                           lr=config['lr'], \n",
    "                           weight_decay=config['weight_decay'])\n",
    "    scheduler = torch.optim.lr_scheduler.ReduceLROnPlateau(\n",
    "        optimizer, mode='min', factor=0.5, patience=3, verbose=True\n",
    "    )\n",
    "    \n",
    "    best_val_loss = float('inf')\n",
    "    best_val_acc = 0.0\n",
    "    epochs_no_improve = 0\n",
    "    best_weights = None\n",
    "    \n",
    "    history = {\n",
    "        'train_loss': [],\n",
    "        'train_acc': [],\n",
    "        'val_loss': [],\n",
    "        'val_acc': [],\n",
    "        'epoch_times': []\n",
    "    }\n",
    "    \n",
    "    print(f\"\\nTraining {config['name']} model...\")\n",
    "    print(\"=\"*70)\n",
    "    \n",
    "    for epoch in range(config['max_epochs']):\n",
    "        start_time = time.time()\n",
    "        \n",
    "        # Training phase\n",
    "        model.train()\n",
    "        train_loss = 0.0\n",
    "        correct = 0\n",
    "        total = 0\n",
    "        \n",
    "        for inputs, labels in tqdm(train_loader, desc=f'Epoch {epoch+1}/{config[\"max_epochs\"]} [Train]', leave=False):\n",
    "            inputs, labels = inputs.to(device), labels.to(device)\n",
    "            \n",
    "            optimizer.zero_grad()\n",
    "            outputs = model(inputs)\n",
    "            loss = criterion(outputs, labels)\n",
    "            loss.backward()\n",
    "            optimizer.step()\n",
    "            \n",
    "            train_loss += loss.item() * inputs.size(0)\n",
    "            _, predicted = torch.max(outputs, 1)\n",
    "            total += labels.size(0)\n",
    "            correct += (predicted == labels).sum().item()\n",
    "        \n",
    "        epoch_train_loss = train_loss / len(train_loader.dataset)\n",
    "        epoch_train_acc = 100 * correct / total\n",
    "        \n",
    "        # Validation phase\n",
    "        model.eval()\n",
    "        val_loss = 0.0\n",
    "        correct = 0\n",
    "        total = 0\n",
    "        \n",
    "        with torch.no_grad():\n",
    "            for inputs, labels in val_loader:\n",
    "                inputs, labels = inputs.to(device), labels.to(device)\n",
    "                outputs = model(inputs)\n",
    "                loss = criterion(outputs, labels)\n",
    "                \n",
    "                val_loss += loss.item() * inputs.size(0)\n",
    "                _, predicted = torch.max(outputs, 1)\n",
    "                total += labels.size(0)\n",
    "                correct += (predicted == labels).sum().item()\n",
    "        \n",
    "        epoch_val_loss = val_loss / len(val_loader.dataset)\n",
    "        epoch_val_acc = 100 * correct / total\n",
    "        \n",
    "        # Track history\n",
    "        history['train_loss'].append(epoch_train_loss)\n",
    "        history['train_acc'].append(epoch_train_acc)\n",
    "        history['val_loss'].append(epoch_val_loss)\n",
    "        history['val_acc'].append(epoch_val_acc)\n",
    "        epoch_time = time.time() - start_time\n",
    "        history['epoch_times'].append(epoch_time)\n",
    "        \n",
    "        # Learning rate scheduling\n",
    "        scheduler.step(epoch_val_loss)\n",
    "        \n",
    "        # Early stopping check\n",
    "        if best_val_loss - epoch_val_loss > config['min_delta']:\n",
    "            best_val_loss = epoch_val_loss\n",
    "            best_val_acc = epoch_val_acc\n",
    "            epochs_no_improve = 0\n",
    "            best_weights = copy.deepcopy(model.state_dict())\n",
    "            status = f\"✓ BEST ({epoch_val_acc:.2f}%)\"\n",
    "        else:\n",
    "            epochs_no_improve += 1\n",
    "            status = f\"No improve ({epochs_no_improve}/{config['patience']})\"\n",
    "        \n",
    "        print(f\"Epoch {epoch+1:2d}: Train={epoch_train_acc:.2f}% Val={epoch_val_acc:.2f}% | {status} ({epoch_time:.1f}s)\")\n",
    "        \n",
    "        # Early stopping\n",
    "        if epochs_no_improve >= config['patience']:\n",
    "            print(f\"\\n⚠️ Early stopping triggered at epoch {epoch+1}\")\n",
    "            break\n",
    "    \n",
    "    # Restore best weights\n",
    "    if best_weights:\n",
    "        model.load_state_dict(best_weights)\n",
    "        print(f\"\\n✓ Best model restored: Val Acc={best_val_acc:.2f}%\")\n",
    "    \n",
    "    return model, history, best_val_acc\n",
    "\n",
    "def evaluate_model(model, test_loader, device):\n",
    "    \"\"\"Evaluate model on test set.\"\"\"\n",
    "    model.eval()\n",
    "    correct = 0\n",
    "    total = 0\n",
    "    \n",
    "    with torch.no_grad():\n",
    "        for inputs, labels in tqdm(test_loader, desc='Testing', leave=False):\n",
    "            inputs, labels = inputs.to(device), labels.to(device)\n",
    "            outputs = model(inputs)\n",
    "            _, predicted = torch.max(outputs, 1)\n",
    "            total += labels.size(0)\n",
    "            correct += (predicted == labels).sum().item()\n",
    "    \n",
    "    return 100 * correct / total\n",
    "\n",
    "print(\"✓ Helper functions defined\")"
   ]
  },
  {
   "cell_type": "markdown",
   "id": "dce023fc",
   "metadata": {},
   "source": [
    "## 5. Experiment 1: 64x64 Images"
   ]
  },
  {
   "cell_type": "code",
   "execution_count": 17,
   "id": "7ae1bbdc",
   "metadata": {},
   "outputs": [
    {
     "name": "stdout",
     "output_type": "stream",
     "text": [
      "Loading 64x64 datasets...\n",
      "Classes: 53\n",
      "Train: 13250 samples\n",
      "Validation: 7439 samples\n",
      "Test: 11423 samples\n",
      "\n",
      "DataLoaders created (batch size: 64)\n"
     ]
    }
   ],
   "source": [
    "# 64x64 transforms\n",
    "IMG_SIZE_64 = 64\n",
    "\n",
    "train_transforms_64 = transforms.Compose([\n",
    "    transforms.Grayscale(num_output_channels=1),\n",
    "    transforms.Resize((IMG_SIZE_64, IMG_SIZE_64)),\n",
    "    transforms.RandomRotation(degrees=10),\n",
    "    transforms.RandomAffine(degrees=0, translate=(0.1, 0.1)),\n",
    "    transforms.ToTensor(),\n",
    "    transforms.Normalize(mean=[0.5], std=[0.5])\n",
    "])\n",
    "\n",
    "val_test_transforms_64 = transforms.Compose([\n",
    "    transforms.Grayscale(num_output_channels=1),\n",
    "    transforms.Resize((IMG_SIZE_64, IMG_SIZE_64)),\n",
    "    transforms.ToTensor(),\n",
    "    transforms.Normalize(mean=[0.5], std=[0.5])\n",
    "])\n",
    "\n",
    "# Load datasets\n",
    "print(\"Loading 64x64 datasets...\")\n",
    "train_dataset_64 = load_dataset(TRAIN_PATH, train_transforms_64)\n",
    "val_dataset_64 = load_dataset(VALIDATION_PATH, val_test_transforms_64)\n",
    "test_dataset_64 = load_dataset(TEST_PATH, val_test_transforms_64)\n",
    "\n",
    "num_classes = len(train_dataset_64.classes)\n",
    "print(f\"Classes: {num_classes}\")\n",
    "print(f\"Train: {len(train_dataset_64)} samples\")\n",
    "print(f\"Validation: {len(val_dataset_64)} samples\")\n",
    "print(f\"Test: {len(test_dataset_64)} samples\")\n",
    "\n",
    "# Create dataloaders\n",
    "train_loader_64 = DataLoader(train_dataset_64, batch_size=BATCH_SIZE, shuffle=True, pin_memory=True)\n",
    "val_loader_64 = DataLoader(val_dataset_64, batch_size=BATCH_SIZE, shuffle=False, pin_memory=True)\n",
    "test_loader_64 = DataLoader(test_dataset_64, batch_size=BATCH_SIZE, shuffle=False, pin_memory=True)\n",
    "\n",
    "print(f\"\\nDataLoaders created (batch size: {BATCH_SIZE})\")"
   ]
  },
  {
   "cell_type": "code",
   "execution_count": 18,
   "id": "00495a75",
   "metadata": {},
   "outputs": [
    {
     "name": "stdout",
     "output_type": "stream",
     "text": [
      "\n",
      "======================================================================\n",
      "EXPERIMENT 1: 64x64 Images\n",
      "======================================================================\n"
     ]
    },
    {
     "name": "stderr",
     "output_type": "stream",
     "text": [
      "/home/ubuntu/anaconda3/envs/rapids-env/lib/python3.9/site-packages/torch/optim/lr_scheduler.py:62: UserWarning: The verbose parameter is deprecated. Please use get_last_lr() to access the learning rate.\n",
      "  warnings.warn(\n"
     ]
    },
    {
     "name": "stdout",
     "output_type": "stream",
     "text": [
      "Model Parameters: 5,401,781\n",
      "\n",
      "Training 64x64 model...\n",
      "======================================================================\n"
     ]
    },
    {
     "name": "stderr",
     "output_type": "stream",
     "text": [
      "                                                                     \r"
     ]
    },
    {
     "name": "stdout",
     "output_type": "stream",
     "text": [
      "Epoch  1: Train=2.88% Val=5.30% | ✓ BEST (5.30%) (10.1s)\n"
     ]
    },
    {
     "name": "stderr",
     "output_type": "stream",
     "text": [
      "                                                                     \r"
     ]
    },
    {
     "name": "stdout",
     "output_type": "stream",
     "text": [
      "Epoch  2: Train=8.42% Val=5.63% | No improve (1/5) (10.3s)\n"
     ]
    },
    {
     "name": "stderr",
     "output_type": "stream",
     "text": [
      "                                                                     \r"
     ]
    },
    {
     "name": "stdout",
     "output_type": "stream",
     "text": [
      "Epoch  3: Train=12.44% Val=8.17% | ✓ BEST (8.17%) (10.2s)\n"
     ]
    },
    {
     "name": "stderr",
     "output_type": "stream",
     "text": [
      "                                                                     \r"
     ]
    },
    {
     "name": "stdout",
     "output_type": "stream",
     "text": [
      "Epoch  4: Train=17.46% Val=8.85% | No improve (1/5) (10.1s)\n"
     ]
    },
    {
     "name": "stderr",
     "output_type": "stream",
     "text": [
      "                                                                     \r"
     ]
    },
    {
     "name": "stdout",
     "output_type": "stream",
     "text": [
      "Epoch  5: Train=24.98% Val=10.36% | ✓ BEST (10.36%) (10.4s)\n"
     ]
    },
    {
     "name": "stderr",
     "output_type": "stream",
     "text": [
      "                                                                     \r"
     ]
    },
    {
     "name": "stdout",
     "output_type": "stream",
     "text": [
      "Epoch  6: Train=32.55% Val=11.76% | ✓ BEST (11.76%) (10.1s)\n"
     ]
    },
    {
     "name": "stderr",
     "output_type": "stream",
     "text": [
      "                                                                     \r"
     ]
    },
    {
     "name": "stdout",
     "output_type": "stream",
     "text": [
      "Epoch  7: Train=40.37% Val=27.01% | ✓ BEST (27.01%) (10.1s)\n"
     ]
    },
    {
     "name": "stderr",
     "output_type": "stream",
     "text": [
      "                                                                     \r"
     ]
    },
    {
     "name": "stdout",
     "output_type": "stream",
     "text": [
      "Epoch  8: Train=46.62% Val=19.37% | No improve (1/5) (10.0s)\n"
     ]
    },
    {
     "name": "stderr",
     "output_type": "stream",
     "text": [
      "                                                                     \r"
     ]
    },
    {
     "name": "stdout",
     "output_type": "stream",
     "text": [
      "Epoch  9: Train=50.54% Val=46.75% | ✓ BEST (46.75%) (10.0s)\n"
     ]
    },
    {
     "name": "stderr",
     "output_type": "stream",
     "text": [
      "                                                                      \r"
     ]
    },
    {
     "name": "stdout",
     "output_type": "stream",
     "text": [
      "Epoch 10: Train=54.80% Val=37.25% | No improve (1/5) (10.2s)\n"
     ]
    },
    {
     "name": "stderr",
     "output_type": "stream",
     "text": [
      "                                                                      \r"
     ]
    },
    {
     "name": "stdout",
     "output_type": "stream",
     "text": [
      "Epoch 11: Train=58.52% Val=37.25% | No improve (2/5) (10.2s)\n"
     ]
    },
    {
     "name": "stderr",
     "output_type": "stream",
     "text": [
      "                                                                      \r"
     ]
    },
    {
     "name": "stdout",
     "output_type": "stream",
     "text": [
      "Epoch 12: Train=61.58% Val=40.88% | No improve (3/5) (10.3s)\n"
     ]
    },
    {
     "name": "stderr",
     "output_type": "stream",
     "text": [
      "                                                                      \r"
     ]
    },
    {
     "name": "stdout",
     "output_type": "stream",
     "text": [
      "Epoch 13: Train=64.10% Val=63.36% | ✓ BEST (63.36%) (10.1s)\n"
     ]
    },
    {
     "name": "stderr",
     "output_type": "stream",
     "text": [
      "                                                                      \r"
     ]
    },
    {
     "name": "stdout",
     "output_type": "stream",
     "text": [
      "Epoch 14: Train=66.10% Val=66.77% | ✓ BEST (66.77%) (9.9s)\n"
     ]
    },
    {
     "name": "stderr",
     "output_type": "stream",
     "text": [
      "                                                                      \r"
     ]
    },
    {
     "name": "stdout",
     "output_type": "stream",
     "text": [
      "Epoch 15: Train=69.58% Val=68.69% | ✓ BEST (68.69%) (10.1s)\n"
     ]
    },
    {
     "name": "stderr",
     "output_type": "stream",
     "text": [
      "                                                                      \r"
     ]
    },
    {
     "name": "stdout",
     "output_type": "stream",
     "text": [
      "Epoch 16: Train=70.84% Val=65.53% | No improve (1/5) (10.2s)\n"
     ]
    },
    {
     "name": "stderr",
     "output_type": "stream",
     "text": [
      "                                                                      \r"
     ]
    },
    {
     "name": "stdout",
     "output_type": "stream",
     "text": [
      "Epoch 17: Train=72.43% Val=62.37% | No improve (2/5) (11.5s)\n"
     ]
    },
    {
     "name": "stderr",
     "output_type": "stream",
     "text": [
      "                                                                      \r"
     ]
    },
    {
     "name": "stdout",
     "output_type": "stream",
     "text": [
      "Epoch 18: Train=71.60% Val=68.91% | ✓ BEST (68.91%) (11.9s)\n"
     ]
    },
    {
     "name": "stderr",
     "output_type": "stream",
     "text": [
      "                                                                      \r"
     ]
    },
    {
     "name": "stdout",
     "output_type": "stream",
     "text": [
      "Epoch 19: Train=74.06% Val=71.10% | ✓ BEST (71.10%) (12.0s)\n"
     ]
    },
    {
     "name": "stderr",
     "output_type": "stream",
     "text": [
      "                                                                      \r"
     ]
    },
    {
     "name": "stdout",
     "output_type": "stream",
     "text": [
      "Epoch 20: Train=74.91% Val=70.18% | ✓ BEST (70.18%) (11.7s)\n"
     ]
    },
    {
     "name": "stderr",
     "output_type": "stream",
     "text": [
      "                                                                      \r"
     ]
    },
    {
     "name": "stdout",
     "output_type": "stream",
     "text": [
      "Epoch 21: Train=76.29% Val=74.66% | ✓ BEST (74.66%) (11.8s)\n"
     ]
    },
    {
     "name": "stderr",
     "output_type": "stream",
     "text": [
      "                                                                      \r"
     ]
    },
    {
     "name": "stdout",
     "output_type": "stream",
     "text": [
      "Epoch 22: Train=76.91% Val=73.63% | No improve (1/5) (11.9s)\n"
     ]
    },
    {
     "name": "stderr",
     "output_type": "stream",
     "text": [
      "                                                                      \r"
     ]
    },
    {
     "name": "stdout",
     "output_type": "stream",
     "text": [
      "Epoch 23: Train=78.27% Val=75.83% | ✓ BEST (75.83%) (12.1s)\n"
     ]
    },
    {
     "name": "stderr",
     "output_type": "stream",
     "text": [
      "                                                                      \r"
     ]
    },
    {
     "name": "stdout",
     "output_type": "stream",
     "text": [
      "Epoch 24: Train=79.06% Val=77.62% | ✓ BEST (77.62%) (11.8s)\n"
     ]
    },
    {
     "name": "stderr",
     "output_type": "stream",
     "text": [
      "                                                                      \r"
     ]
    },
    {
     "name": "stdout",
     "output_type": "stream",
     "text": [
      "Epoch 25: Train=78.68% Val=74.70% | No improve (1/5) (12.0s)\n"
     ]
    },
    {
     "name": "stderr",
     "output_type": "stream",
     "text": [
      "                                                                      \r"
     ]
    },
    {
     "name": "stdout",
     "output_type": "stream",
     "text": [
      "Epoch 26: Train=79.31% Val=72.29% | No improve (2/5) (11.9s)\n"
     ]
    },
    {
     "name": "stderr",
     "output_type": "stream",
     "text": [
      "                                                                      \r"
     ]
    },
    {
     "name": "stdout",
     "output_type": "stream",
     "text": [
      "Epoch 27: Train=79.02% Val=77.21% | ✓ BEST (77.21%) (11.7s)\n"
     ]
    },
    {
     "name": "stderr",
     "output_type": "stream",
     "text": [
      "                                                                      \r"
     ]
    },
    {
     "name": "stdout",
     "output_type": "stream",
     "text": [
      "Epoch 28: Train=80.48% Val=79.37% | ✓ BEST (79.37%) (12.0s)\n"
     ]
    },
    {
     "name": "stderr",
     "output_type": "stream",
     "text": [
      "                                                                      \r"
     ]
    },
    {
     "name": "stdout",
     "output_type": "stream",
     "text": [
      "Epoch 29: Train=80.38% Val=78.17% | No improve (1/5) (12.0s)\n"
     ]
    },
    {
     "name": "stderr",
     "output_type": "stream",
     "text": [
      "                                                                      \r"
     ]
    },
    {
     "name": "stdout",
     "output_type": "stream",
     "text": [
      "Epoch 30: Train=81.21% Val=78.79% | No improve (2/5) (11.9s)\n",
      "\n",
      "✓ Best model restored: Val Acc=79.37%\n",
      "\n",
      "Evaluating on test set...\n"
     ]
    },
    {
     "name": "stderr",
     "output_type": "stream",
     "text": [
      "                                                          "
     ]
    },
    {
     "name": "stdout",
     "output_type": "stream",
     "text": [
      "\n",
      "======================================================================\n",
      "64x64 RESULTS:\n",
      "  Best Validation Accuracy: 79.37%\n",
      "  Test Accuracy: 78.88%\n",
      "  Total Training Time: 328.6s (5.5 min)\n",
      "  Avg Time/Epoch: 10.9s\n",
      "======================================================================\n"
     ]
    },
    {
     "name": "stderr",
     "output_type": "stream",
     "text": [
      "\r"
     ]
    }
   ],
   "source": [
    "# Create and train 64x64 model\n",
    "print(\"\\n\" + \"=\"*70)\n",
    "print(\"EXPERIMENT 1: 64x64 Images\")\n",
    "print(\"=\"*70)\n",
    "\n",
    "model_64 = create_vit_model(num_classes, img_size=IMG_SIZE_64)\n",
    "model_64 = model_64.to(device)\n",
    "\n",
    "total_params_64 = sum(p.numel() for p in model_64.parameters())\n",
    "print(f\"Model Parameters: {total_params_64:,}\")\n",
    "\n",
    "config_64 = {\n",
    "    'name': '64x64',\n",
    "    'max_epochs': MAX_EPOCHS,\n",
    "    'lr': LEARNING_RATE,\n",
    "    'weight_decay': WEIGHT_DECAY,\n",
    "    'patience': EARLY_STOPPING_PATIENCE,\n",
    "    'min_delta': MIN_DELTA\n",
    "}\n",
    "\n",
    "start_time_64 = time.time()\n",
    "model_64, history_64, best_val_acc_64 = train_model(model_64, train_loader_64, val_loader_64, device, config_64)\n",
    "total_time_64 = time.time() - start_time_64\n",
    "\n",
    "# Evaluate on test set\n",
    "print(\"\\nEvaluating on test set...\")\n",
    "test_acc_64 = evaluate_model(model_64, test_loader_64, device)\n",
    "\n",
    "print(\"\\n\" + \"=\"*70)\n",
    "print(f\"64x64 RESULTS:\")\n",
    "print(f\"  Best Validation Accuracy: {best_val_acc_64:.2f}%\")\n",
    "print(f\"  Test Accuracy: {test_acc_64:.2f}%\")\n",
    "print(f\"  Total Training Time: {total_time_64:.1f}s ({total_time_64/60:.1f} min)\")\n",
    "print(f\"  Avg Time/Epoch: {np.mean(history_64['epoch_times']):.1f}s\")\n",
    "print(\"=\"*70)"
   ]
  },
  {
   "cell_type": "markdown",
   "id": "727e8220",
   "metadata": {},
   "source": [
    "## 6. Experiment 2: 128x128 Images"
   ]
  },
  {
   "cell_type": "code",
   "execution_count": 19,
   "id": "eb50f14f",
   "metadata": {},
   "outputs": [
    {
     "name": "stdout",
     "output_type": "stream",
     "text": [
      "Loading 128x128 datasets...\n",
      "Train: 13250 samples\n",
      "Validation: 7439 samples\n",
      "Test: 11423 samples\n",
      "\n",
      "DataLoaders created (batch size: 64)\n"
     ]
    }
   ],
   "source": [
    "# 128x128 transforms\n",
    "IMG_SIZE_128 = 48\n",
    "\n",
    "train_transforms_128 = transforms.Compose([\n",
    "    transforms.Grayscale(num_output_channels=1),\n",
    "    transforms.Resize((IMG_SIZE_128, IMG_SIZE_128)),\n",
    "    transforms.RandomRotation(degrees=10),\n",
    "    transforms.RandomAffine(degrees=0, translate=(0.1, 0.1)),\n",
    "    transforms.ToTensor(),\n",
    "    transforms.Normalize(mean=[0.5], std=[0.5])\n",
    "])\n",
    "\n",
    "val_test_transforms_128 = transforms.Compose([\n",
    "    transforms.Grayscale(num_output_channels=1),\n",
    "    transforms.Resize((IMG_SIZE_128, IMG_SIZE_128)),\n",
    "    transforms.ToTensor(),\n",
    "    transforms.Normalize(mean=[0.5], std=[0.5])\n",
    "])\n",
    "\n",
    "# Load datasets\n",
    "print(\"Loading 128x128 datasets...\")\n",
    "train_dataset_128 = load_dataset(TRAIN_PATH, train_transforms_128)\n",
    "val_dataset_128 = load_dataset(VALIDATION_PATH, val_test_transforms_128)\n",
    "test_dataset_128 = load_dataset(TEST_PATH, val_test_transforms_128)\n",
    "\n",
    "print(f\"Train: {len(train_dataset_128)} samples\")\n",
    "print(f\"Validation: {len(val_dataset_128)} samples\")\n",
    "print(f\"Test: {len(test_dataset_128)} samples\")\n",
    "\n",
    "# Create dataloaders\n",
    "train_loader_128 = DataLoader(train_dataset_128, batch_size=BATCH_SIZE, shuffle=True, pin_memory=True)\n",
    "val_loader_128 = DataLoader(val_dataset_128, batch_size=BATCH_SIZE, shuffle=False, pin_memory=True)\n",
    "test_loader_128 = DataLoader(test_dataset_128, batch_size=BATCH_SIZE, shuffle=False, pin_memory=True)\n",
    "\n",
    "print(f\"\\nDataLoaders created (batch size: {BATCH_SIZE})\")"
   ]
  },
  {
   "cell_type": "code",
   "execution_count": 20,
   "id": "9f4c3d25",
   "metadata": {},
   "outputs": [
    {
     "name": "stdout",
     "output_type": "stream",
     "text": [
      "\n",
      "======================================================================\n",
      "EXPERIMENT 2: 128x128 Images\n",
      "======================================================================\n",
      "Model Parameters: 5,400,437\n",
      "\n",
      "Training 128x128 model...\n",
      "======================================================================\n"
     ]
    },
    {
     "name": "stderr",
     "output_type": "stream",
     "text": [
      "                                                                     \r"
     ]
    },
    {
     "name": "stdout",
     "output_type": "stream",
     "text": [
      "Epoch  1: Train=3.06% Val=2.85% | ✓ BEST (2.85%) (11.6s)\n"
     ]
    },
    {
     "name": "stderr",
     "output_type": "stream",
     "text": [
      "                                                                     \r"
     ]
    },
    {
     "name": "stdout",
     "output_type": "stream",
     "text": [
      "Epoch  2: Train=7.33% Val=8.44% | ✓ BEST (8.44%) (11.7s)\n"
     ]
    },
    {
     "name": "stderr",
     "output_type": "stream",
     "text": [
      "                                                                     \r"
     ]
    },
    {
     "name": "stdout",
     "output_type": "stream",
     "text": [
      "Epoch  3: Train=12.96% Val=6.72% | No improve (1/5) (11.6s)\n"
     ]
    },
    {
     "name": "stderr",
     "output_type": "stream",
     "text": [
      "                                                                     \r"
     ]
    },
    {
     "name": "stdout",
     "output_type": "stream",
     "text": [
      "Epoch  4: Train=19.36% Val=13.50% | ✓ BEST (13.50%) (11.7s)\n"
     ]
    },
    {
     "name": "stderr",
     "output_type": "stream",
     "text": [
      "                                                                     \r"
     ]
    },
    {
     "name": "stdout",
     "output_type": "stream",
     "text": [
      "Epoch  5: Train=29.38% Val=29.69% | ✓ BEST (29.69%) (11.4s)\n"
     ]
    },
    {
     "name": "stderr",
     "output_type": "stream",
     "text": [
      "                                                                     \r"
     ]
    },
    {
     "name": "stdout",
     "output_type": "stream",
     "text": [
      "Epoch  6: Train=38.85% Val=28.51% | No improve (1/5) (11.5s)\n"
     ]
    },
    {
     "name": "stderr",
     "output_type": "stream",
     "text": [
      "                                                                     \r"
     ]
    },
    {
     "name": "stdout",
     "output_type": "stream",
     "text": [
      "Epoch  7: Train=44.17% Val=36.70% | ✓ BEST (36.70%) (11.4s)\n"
     ]
    },
    {
     "name": "stderr",
     "output_type": "stream",
     "text": [
      "                                                                     \r"
     ]
    },
    {
     "name": "stdout",
     "output_type": "stream",
     "text": [
      "Epoch  8: Train=50.94% Val=49.19% | ✓ BEST (49.19%) (11.5s)\n"
     ]
    },
    {
     "name": "stderr",
     "output_type": "stream",
     "text": [
      "                                                                     \r"
     ]
    },
    {
     "name": "stdout",
     "output_type": "stream",
     "text": [
      "Epoch  9: Train=54.69% Val=57.45% | ✓ BEST (57.45%) (11.5s)\n"
     ]
    },
    {
     "name": "stderr",
     "output_type": "stream",
     "text": [
      "                                                                      \r"
     ]
    },
    {
     "name": "stdout",
     "output_type": "stream",
     "text": [
      "Epoch 10: Train=59.34% Val=58.29% | ✓ BEST (58.29%) (11.4s)\n"
     ]
    },
    {
     "name": "stderr",
     "output_type": "stream",
     "text": [
      "                                                                      \r"
     ]
    },
    {
     "name": "stdout",
     "output_type": "stream",
     "text": [
      "Epoch 11: Train=62.29% Val=64.00% | ✓ BEST (64.00%) (11.5s)\n"
     ]
    },
    {
     "name": "stderr",
     "output_type": "stream",
     "text": [
      "                                                                      \r"
     ]
    },
    {
     "name": "stdout",
     "output_type": "stream",
     "text": [
      "Epoch 12: Train=64.67% Val=67.04% | ✓ BEST (67.04%) (11.5s)\n"
     ]
    },
    {
     "name": "stderr",
     "output_type": "stream",
     "text": [
      "                                                                      \r"
     ]
    },
    {
     "name": "stdout",
     "output_type": "stream",
     "text": [
      "Epoch 13: Train=67.02% Val=67.70% | ✓ BEST (67.70%) (11.5s)\n"
     ]
    },
    {
     "name": "stderr",
     "output_type": "stream",
     "text": [
      "                                                                      \r"
     ]
    },
    {
     "name": "stdout",
     "output_type": "stream",
     "text": [
      "Epoch 14: Train=67.77% Val=68.57% | ✓ BEST (68.57%) (11.5s)\n"
     ]
    },
    {
     "name": "stderr",
     "output_type": "stream",
     "text": [
      "                                                                      \r"
     ]
    },
    {
     "name": "stdout",
     "output_type": "stream",
     "text": [
      "Epoch 15: Train=69.03% Val=72.70% | ✓ BEST (72.70%) (11.4s)\n"
     ]
    },
    {
     "name": "stderr",
     "output_type": "stream",
     "text": [
      "                                                                      \r"
     ]
    },
    {
     "name": "stdout",
     "output_type": "stream",
     "text": [
      "Epoch 16: Train=71.58% Val=70.94% | No improve (1/5) (11.2s)\n"
     ]
    },
    {
     "name": "stderr",
     "output_type": "stream",
     "text": [
      "                                                                      \r"
     ]
    },
    {
     "name": "stdout",
     "output_type": "stream",
     "text": [
      "Epoch 17: Train=70.92% Val=71.92% | No improve (2/5) (11.5s)\n"
     ]
    },
    {
     "name": "stderr",
     "output_type": "stream",
     "text": [
      "                                                                      \r"
     ]
    },
    {
     "name": "stdout",
     "output_type": "stream",
     "text": [
      "Epoch 18: Train=72.76% Val=72.67% | ✓ BEST (72.67%) (11.3s)\n"
     ]
    },
    {
     "name": "stderr",
     "output_type": "stream",
     "text": [
      "                                                                      \r"
     ]
    },
    {
     "name": "stdout",
     "output_type": "stream",
     "text": [
      "Epoch 19: Train=72.85% Val=76.45% | ✓ BEST (76.45%) (11.3s)\n"
     ]
    },
    {
     "name": "stderr",
     "output_type": "stream",
     "text": [
      "                                                                      \r"
     ]
    },
    {
     "name": "stdout",
     "output_type": "stream",
     "text": [
      "Epoch 20: Train=75.84% Val=75.63% | No improve (1/5) (11.2s)\n"
     ]
    },
    {
     "name": "stderr",
     "output_type": "stream",
     "text": [
      "                                                                      \r"
     ]
    },
    {
     "name": "stdout",
     "output_type": "stream",
     "text": [
      "Epoch 21: Train=76.35% Val=75.99% | No improve (2/5) (11.4s)\n"
     ]
    },
    {
     "name": "stderr",
     "output_type": "stream",
     "text": [
      "                                                                      \r"
     ]
    },
    {
     "name": "stdout",
     "output_type": "stream",
     "text": [
      "Epoch 22: Train=77.02% Val=76.14% | No improve (3/5) (11.3s)\n"
     ]
    },
    {
     "name": "stderr",
     "output_type": "stream",
     "text": [
      "                                                                      \r"
     ]
    },
    {
     "name": "stdout",
     "output_type": "stream",
     "text": [
      "Epoch 23: Train=76.35% Val=78.64% | ✓ BEST (78.64%) (11.2s)\n"
     ]
    },
    {
     "name": "stderr",
     "output_type": "stream",
     "text": [
      "                                                                      \r"
     ]
    },
    {
     "name": "stdout",
     "output_type": "stream",
     "text": [
      "Epoch 24: Train=78.30% Val=77.42% | No improve (1/5) (11.2s)\n"
     ]
    },
    {
     "name": "stderr",
     "output_type": "stream",
     "text": [
      "                                                                      \r"
     ]
    },
    {
     "name": "stdout",
     "output_type": "stream",
     "text": [
      "Epoch 25: Train=78.30% Val=75.78% | No improve (2/5) (11.2s)\n"
     ]
    },
    {
     "name": "stderr",
     "output_type": "stream",
     "text": [
      "                                                                      \r"
     ]
    },
    {
     "name": "stdout",
     "output_type": "stream",
     "text": [
      "Epoch 26: Train=78.14% Val=80.86% | ✓ BEST (80.86%) (11.2s)\n"
     ]
    },
    {
     "name": "stderr",
     "output_type": "stream",
     "text": [
      "                                                                      \r"
     ]
    },
    {
     "name": "stdout",
     "output_type": "stream",
     "text": [
      "Epoch 27: Train=79.50% Val=78.73% | No improve (1/5) (11.2s)\n"
     ]
    },
    {
     "name": "stderr",
     "output_type": "stream",
     "text": [
      "                                                                      \r"
     ]
    },
    {
     "name": "stdout",
     "output_type": "stream",
     "text": [
      "Epoch 28: Train=78.94% Val=80.06% | No improve (2/5) (11.2s)\n"
     ]
    },
    {
     "name": "stderr",
     "output_type": "stream",
     "text": [
      "                                                                      \r"
     ]
    },
    {
     "name": "stdout",
     "output_type": "stream",
     "text": [
      "Epoch 29: Train=78.72% Val=80.62% | ✓ BEST (80.62%) (11.2s)\n"
     ]
    },
    {
     "name": "stderr",
     "output_type": "stream",
     "text": [
      "                                                                      \r"
     ]
    },
    {
     "name": "stdout",
     "output_type": "stream",
     "text": [
      "Epoch 30: Train=80.91% Val=79.51% | No improve (1/5) (11.3s)\n",
      "\n",
      "✓ Best model restored: Val Acc=80.62%\n",
      "\n",
      "Evaluating on test set...\n"
     ]
    },
    {
     "name": "stderr",
     "output_type": "stream",
     "text": [
      "                                                          "
     ]
    },
    {
     "name": "stdout",
     "output_type": "stream",
     "text": [
      "\n",
      "======================================================================\n",
      "128x128 RESULTS:\n",
      "  Best Validation Accuracy: 80.62%\n",
      "  Test Accuracy: 80.10%\n",
      "  Total Training Time: 341.9s (5.7 min)\n",
      "  Avg Time/Epoch: 11.4s\n",
      "======================================================================\n"
     ]
    },
    {
     "name": "stderr",
     "output_type": "stream",
     "text": [
      "\r"
     ]
    }
   ],
   "source": [
    "# Create and train 128x128 model\n",
    "print(\"\\n\" + \"=\"*70)\n",
    "print(\"EXPERIMENT 2: 128x128 Images\")\n",
    "print(\"=\"*70)\n",
    "\n",
    "model_128 = create_vit_model(num_classes, img_size=IMG_SIZE_128)\n",
    "model_128 = model_128.to(device)\n",
    "\n",
    "total_params_128 = sum(p.numel() for p in model_128.parameters())\n",
    "print(f\"Model Parameters: {total_params_128:,}\")\n",
    "\n",
    "config_128 = {\n",
    "    'name': '128x128',\n",
    "    'max_epochs': MAX_EPOCHS,\n",
    "    'lr': LEARNING_RATE,\n",
    "    'weight_decay': WEIGHT_DECAY,\n",
    "    'patience': EARLY_STOPPING_PATIENCE,\n",
    "    'min_delta': MIN_DELTA\n",
    "}\n",
    "\n",
    "start_time_128 = time.time()\n",
    "model_128, history_128, best_val_acc_128 = train_model(model_128, train_loader_128, val_loader_128, device, config_128)\n",
    "total_time_128 = time.time() - start_time_128\n",
    "\n",
    "# Evaluate on test set\n",
    "print(\"\\nEvaluating on test set...\")\n",
    "test_acc_128 = evaluate_model(model_128, test_loader_128, device)\n",
    "\n",
    "print(\"\\n\" + \"=\"*70)\n",
    "print(f\"128x128 RESULTS:\")\n",
    "print(f\"  Best Validation Accuracy: {best_val_acc_128:.2f}%\")\n",
    "print(f\"  Test Accuracy: {test_acc_128:.2f}%\")\n",
    "print(f\"  Total Training Time: {total_time_128:.1f}s ({total_time_128/60:.1f} min)\")\n",
    "print(f\"  Avg Time/Epoch: {np.mean(history_128['epoch_times']):.1f}s\")\n",
    "print(\"=\"*70)"
   ]
  },
  {
   "cell_type": "markdown",
   "id": "9a1506cb",
   "metadata": {},
   "source": [
    "## 7. Comprehensive Comparison"
   ]
  },
  {
   "cell_type": "code",
   "execution_count": 21,
   "id": "79645708",
   "metadata": {},
   "outputs": [
    {
     "name": "stdout",
     "output_type": "stream",
     "text": [
      "\n",
      "======================================================================\n",
      "FINAL COMPARISON: 64x64 vs 128x128\n",
      "======================================================================\n",
      "\n",
      " Image Size  Test Accuracy (%)  Val Accuracy (%)  Training Time (min)  Time/Epoch (s)  Parameters  Final Train-Val Gap (%)\n",
      "     64x64          78.875952         79.365506             5.476167       10.947608     5401781                 2.420076\n",
      "   128x128          80.101550         80.615674             5.698718       11.392419     5400437                 1.399832\n",
      "\n",
      "======================================================================\n",
      "\n",
      "🏆 WINNER: 128x128 with 80.10% test accuracy\n",
      "   Improvement: 1.23% over 64x64\n",
      "======================================================================\n"
     ]
    }
   ],
   "source": [
    "# Summary comparison\n",
    "print(\"\\n\" + \"=\"*70)\n",
    "print(\"FINAL COMPARISON: 64x64 vs 128x128\")\n",
    "print(\"=\"*70)\n",
    "\n",
    "comparison = {\n",
    "    'Image Size': ['64x64', '128x128'],\n",
    "    'Test Accuracy (%)': [test_acc_64, test_acc_128],\n",
    "    'Val Accuracy (%)': [best_val_acc_64, best_val_acc_128],\n",
    "    'Training Time (min)': [total_time_64/60, total_time_128/60],\n",
    "    'Time/Epoch (s)': [np.mean(history_64['epoch_times']), np.mean(history_128['epoch_times'])],\n",
    "    'Parameters': [total_params_64, total_params_128],\n",
    "    'Final Train-Val Gap (%)': [\n",
    "        history_64['train_acc'][-1] - history_64['val_acc'][-1],\n",
    "        history_128['train_acc'][-1] - history_128['val_acc'][-1]\n",
    "    ]\n",
    "}\n",
    "\n",
    "import pandas as pd\n",
    "df = pd.DataFrame(comparison)\n",
    "print(\"\\n\", df.to_string(index=False))\n",
    "print(\"\\n\" + \"=\"*70)\n",
    "\n",
    "# Determine winner\n",
    "if test_acc_64 > test_acc_128:\n",
    "    print(f\"\\n🏆 WINNER: 64x64 with {test_acc_64:.2f}% test accuracy\")\n",
    "    print(f\"   Improvement: {test_acc_64 - test_acc_128:.2f}% over 128x128\")\n",
    "elif test_acc_128 > test_acc_64:\n",
    "    print(f\"\\n🏆 WINNER: 128x128 with {test_acc_128:.2f}% test accuracy\")\n",
    "    print(f\"   Improvement: {test_acc_128 - test_acc_64:.2f}% over 64x64\")\n",
    "else:\n",
    "    print(f\"\\n🤝 TIE: Both achieved {test_acc_64:.2f}% test accuracy\")\n",
    "\n",
    "print(\"=\"*70)"
   ]
  },
  {
   "cell_type": "markdown",
   "id": "d0e49609",
   "metadata": {},
   "source": [
    "## 8. Visualization: Training Curves"
   ]
  },
  {
   "cell_type": "code",
   "execution_count": 22,
   "id": "f5b54175",
   "metadata": {},
   "outputs": [
    {
     "data": {
      "image/png": "[encoded data removed]",
      "text/plain": [
       "<Figure size 1600x1200 with 4 Axes>"
      ]
     },
     "metadata": {},
     "output_type": "display_data"
    }
   ],
   "source": [
    "# Plot training curves\n",
    "fig, axes = plt.subplots(2, 2, figsize=(16, 12))\n",
    "\n",
    "# Validation Accuracy Comparison\n",
    "epochs_64 = range(1, len(history_64['val_acc']) + 1)\n",
    "epochs_128 = range(1, len(history_128['val_acc']) + 1)\n",
    "\n",
    "axes[0, 0].plot(epochs_64, history_64['val_acc'], 'b-', linewidth=2, label='64x64', marker='o', markersize=4)\n",
    "axes[0, 0].plot(epochs_128, history_128['val_acc'], 'r-', linewidth=2, label='128x128', marker='s', markersize=4)\n",
    "axes[0, 0].axhline(y=test_acc_64, color='b', linestyle='--', alpha=0.5, label=f'64x64 Test: {test_acc_64:.2f}%')\n",
    "axes[0, 0].axhline(y=test_acc_128, color='r', linestyle='--', alpha=0.5, label=f'128x128 Test: {test_acc_128:.2f}%')\n",
    "axes[0, 0].set_xlabel('Epoch', fontsize=12, fontweight='bold')\n",
    "axes[0, 0].set_ylabel('Validation Accuracy (%)', fontsize=12, fontweight='bold')\n",
    "axes[0, 0].set_title('Validation Accuracy Comparison', fontsize=14, fontweight='bold')\n",
    "axes[0, 0].legend(fontsize=10)\n",
    "axes[0, 0].grid(True, alpha=0.3)\n",
    "\n",
    "# Training Loss Comparison\n",
    "axes[0, 1].plot(epochs_64, history_64['train_loss'], 'b-', linewidth=2, label='64x64', marker='o', markersize=4)\n",
    "axes[0, 1].plot(epochs_128, history_128['train_loss'], 'r-', linewidth=2, label='128x128', marker='s', markersize=4)\n",
    "axes[0, 1].set_xlabel('Epoch', fontsize=12, fontweight='bold')\n",
    "axes[0, 1].set_ylabel('Training Loss', fontsize=12, fontweight='bold')\n",
    "axes[0, 1].set_title('Training Loss Comparison', fontsize=14, fontweight='bold')\n",
    "axes[0, 1].legend(fontsize=10)\n",
    "axes[0, 1].grid(True, alpha=0.3)\n",
    "\n",
    "# Overfitting Analysis (Train-Val Gap)\n",
    "gap_64 = [history_64['train_acc'][i] - history_64['val_acc'][i] for i in range(len(history_64['train_acc']))]\n",
    "gap_128 = [history_128['train_acc'][i] - history_128['val_acc'][i] for i in range(len(history_128['train_acc']))]\n",
    "\n",
    "axes[1, 0].plot(epochs_64, gap_64, 'b-', linewidth=2, label='64x64', marker='o', markersize=4)\n",
    "axes[1, 0].plot(epochs_128, gap_128, 'r-', linewidth=2, label='128x128', marker='s', markersize=4)\n",
    "axes[1, 0].axhline(y=5, color='orange', linestyle='--', alpha=0.5, label='Moderate Overfit')\n",
    "axes[1, 0].axhline(y=10, color='red', linestyle='--', alpha=0.5, label='High Overfit')\n",
    "axes[1, 0].axhline(y=0, color='black', linestyle='-', alpha=0.3)\n",
    "axes[1, 0].set_xlabel('Epoch', fontsize=12, fontweight='bold')\n",
    "axes[1, 0].set_ylabel('Train-Val Gap (%)', fontsize=12, fontweight='bold')\n",
    "axes[1, 0].set_title('Overfitting Analysis', fontsize=14, fontweight='bold')\n",
    "axes[1, 0].legend(fontsize=10)\n",
    "axes[1, 0].grid(True, alpha=0.3)\n",
    "\n",
    "# Training Time per Epoch\n",
    "axes[1, 1].bar(['64x64', '128x128'], \n",
    "               [np.mean(history_64['epoch_times']), np.mean(history_128['epoch_times'])],\n",
    "               color=['blue', 'red'], alpha=0.7, edgecolor='black', linewidth=2)\n",
    "axes[1, 1].set_ylabel('Time per Epoch (seconds)', fontsize=12, fontweight='bold')\n",
    "axes[1, 1].set_title('Training Speed Comparison', fontsize=14, fontweight='bold')\n",
    "axes[1, 1].grid(True, alpha=0.3, axis='y')\n",
    "\n",
    "# Add values on bars\n",
    "for i, v in enumerate([np.mean(history_64['epoch_times']), np.mean(history_128['epoch_times'])]):\n",
    "    axes[1, 1].text(i, v + 0.5, f'{v:.1f}s', ha='center', va='bottom', fontweight='bold', fontsize=11)\n",
    "\n",
    "plt.suptitle('Vision Transformer: 64x64 vs 128x128 Image Size Comparison', \n",
    "             fontsize=16, fontweight='bold', y=1.00)\n",
    "plt.tight_layout()\n",
    "plt.show()"
   ]
  },
  {
   "cell_type": "markdown",
   "id": "2d00c9d5",
   "metadata": {},
   "source": [
    "## 9. Final Performance Bar Chart"
   ]
  },
  {
   "cell_type": "code",
   "execution_count": 23,
   "id": "2e215f94",
   "metadata": {},
   "outputs": [
    {
     "name": "stderr",
     "output_type": "stream",
     "text": [
      "/tmp/ipykernel_9580/2716311229.py:52: UserWarning: Glyph 127942 (\\N{TROPHY}) missing from font(s) DejaVu Sans.\n",
      "  plt.tight_layout()\n",
      "/home/ubuntu/anaconda3/envs/rapids-env/lib/python3.9/site-packages/IPython/core/pylabtools.py:152: UserWarning: Glyph 127942 (\\N{TROPHY}) missing from font(s) DejaVu Sans.\n",
      "  fig.canvas.print_figure(bytes_io, **kw)\n"
     ]
    },
    {
     "data": {
      "image/png": "[encoded data removed]",
      "text/plain": [
       "<Figure size 1200x700 with 1 Axes>"
      ]
     },
     "metadata": {},
     "output_type": "display_data"
    },
    {
     "name": "stdout",
     "output_type": "stream",
     "text": [
      "\n",
      "📊 Visualization complete!\n"
     ]
    }
   ],
   "source": [
    "# Final comparison bar chart\n",
    "fig, ax = plt.subplots(figsize=(12, 7))\n",
    "\n",
    "x = np.arange(2)\n",
    "width = 0.35\n",
    "\n",
    "# Test accuracy bars\n",
    "bars1 = ax.bar(x - width/2, [test_acc_64, test_acc_128], width, \n",
    "               label='Test Accuracy', color=['#2E86AB', '#A23B72'], \n",
    "               edgecolor='black', linewidth=2, alpha=0.8)\n",
    "\n",
    "# Validation accuracy bars\n",
    "bars2 = ax.bar(x + width/2, [best_val_acc_64, best_val_acc_128], width,\n",
    "               label='Best Val Accuracy', color=['#87BCDE', '#D8B4E2'],\n",
    "               edgecolor='black', linewidth=2, alpha=0.8)\n",
    "\n",
    "# Add value labels\n",
    "for bars in [bars1, bars2]:\n",
    "    for bar in bars:\n",
    "        height = bar.get_height()\n",
    "        ax.text(bar.get_x() + bar.get_width()/2., height,\n",
    "                f'{height:.2f}%',\n",
    "                ha='center', va='bottom', fontweight='bold', fontsize=12)\n",
    "\n",
    "ax.set_xlabel('Image Size', fontsize=14, fontweight='bold')\n",
    "ax.set_ylabel('Accuracy (%)', fontsize=14, fontweight='bold')\n",
    "ax.set_title('Vision Transformer Performance: 64x64 vs 128x128', \n",
    "             fontsize=16, fontweight='bold', pad=20)\n",
    "ax.set_xticks(x)\n",
    "ax.set_xticklabels(['64x64', '128x128'], fontsize=12, fontweight='bold')\n",
    "ax.legend(fontsize=11, loc='lower right')\n",
    "ax.grid(True, alpha=0.3, axis='y')\n",
    "ax.set_ylim([0, 100])\n",
    "\n",
    "# Add winner annotation\n",
    "if test_acc_64 > test_acc_128:\n",
    "    winner_idx = 0\n",
    "    winner_acc = test_acc_64\n",
    "else:\n",
    "    winner_idx = 1\n",
    "    winner_acc = test_acc_128\n",
    "\n",
    "ax.annotate('🏆 WINNER', \n",
    "            xy=(x[winner_idx] - width/2, winner_acc), \n",
    "            xytext=(x[winner_idx], winner_acc + 5),\n",
    "            fontsize=14, fontweight='bold', color='gold',\n",
    "            ha='center',\n",
    "            bbox=dict(boxstyle='round,pad=0.5', facecolor='black', alpha=0.8),\n",
    "            arrowprops=dict(arrowstyle='->', connectionstyle='arc3,rad=0', \n",
    "                          color='gold', lw=3))\n",
    "\n",
    "plt.tight_layout()\n",
    "plt.show()\n",
    "\n",
    "print(\"\\n📊 Visualization complete!\")"
   ]
  },
  {
   "cell_type": "markdown",
   "id": "cfffe8c6",
   "metadata": {},
   "source": [
    "## 10. Key Insights and Recommendations"
   ]
  },
  {
   "cell_type": "code",
   "execution_count": 24,
   "id": "7bec9206",
   "metadata": {},
   "outputs": [
    {
     "name": "stdout",
     "output_type": "stream",
     "text": [
      "\n",
      "======================================================================\n",
      "KEY INSIGHTS\n",
      "======================================================================\n",
      "\n",
      "1️⃣ ACCURACY:\n",
      "   64x64:  Test=78.88%, Val=79.37%\n",
      "   128x128: Test=80.10%, Val=80.62%\n",
      "   Difference: 1.23%\n",
      "\n",
      "2️⃣ TRAINING EFFICIENCY:\n",
      "   64x64:  10.9s/epoch, 5.5 min total\n",
      "   128x128: 11.4s/epoch, 5.7 min total\n",
      "   Speedup: 64x64 is 1.04x faster per epoch\n",
      "\n",
      "3️⃣ OVERFITTING:\n",
      "   64x64 Train-Val Gap:  2.42%\n",
      "   128x128 Train-Val Gap: 1.40%\n",
      "   ✓ Similar overfitting levels\n",
      "\n",
      "4️⃣ MODEL COMPLEXITY:\n",
      "   64x64 Parameters:  5,401,781\n",
      "   128x128 Parameters: 5,400,437\n",
      "\n",
      "======================================================================\n",
      "RECOMMENDATION\n",
      "======================================================================\n",
      "\n",
      "✅ USE 128x128:\n",
      "   • Better test accuracy (80.10% vs 78.88%)\n",
      "   • Worth the extra training time\n",
      "\n",
      "======================================================================\n"
     ]
    }
   ],
   "source": [
    "print(\"\\n\" + \"=\"*70)\n",
    "print(\"KEY INSIGHTS\")\n",
    "print(\"=\"*70)\n",
    "\n",
    "print(\"\\n1️⃣ ACCURACY:\")\n",
    "print(f\"   64x64:  Test={test_acc_64:.2f}%, Val={best_val_acc_64:.2f}%\")\n",
    "print(f\"   128x128: Test={test_acc_128:.2f}%, Val={best_val_acc_128:.2f}%\")\n",
    "print(f\"   Difference: {abs(test_acc_64 - test_acc_128):.2f}%\")\n",
    "\n",
    "print(\"\\n2️⃣ TRAINING EFFICIENCY:\")\n",
    "print(f\"   64x64:  {np.mean(history_64['epoch_times']):.1f}s/epoch, {total_time_64/60:.1f} min total\")\n",
    "print(f\"   128x128: {np.mean(history_128['epoch_times']):.1f}s/epoch, {total_time_128/60:.1f} min total\")\n",
    "speedup = np.mean(history_128['epoch_times']) / np.mean(history_64['epoch_times'])\n",
    "print(f\"   Speedup: 64x64 is {speedup:.2f}x faster per epoch\")\n",
    "\n",
    "print(\"\\n3️⃣ OVERFITTING:\")\n",
    "final_gap_64 = history_64['train_acc'][-1] - history_64['val_acc'][-1]\n",
    "final_gap_128 = history_128['train_acc'][-1] - history_128['val_acc'][-1]\n",
    "print(f\"   64x64 Train-Val Gap:  {final_gap_64:.2f}%\")\n",
    "print(f\"   128x128 Train-Val Gap: {final_gap_128:.2f}%\")\n",
    "if final_gap_128 > final_gap_64 + 2:\n",
    "    print(\"   ⚠️ 128x128 shows more overfitting\")\n",
    "elif final_gap_64 > final_gap_128 + 2:\n",
    "    print(\"   ⚠️ 64x64 shows more overfitting\")\n",
    "else:\n",
    "    print(\"   ✓ Similar overfitting levels\")\n",
    "\n",
    "print(\"\\n4️⃣ MODEL COMPLEXITY:\")\n",
    "print(f\"   64x64 Parameters:  {total_params_64:,}\")\n",
    "print(f\"   128x128 Parameters: {total_params_128:,}\")\n",
    "\n",
    "print(\"\\n\" + \"=\"*70)\n",
    "print(\"RECOMMENDATION\")\n",
    "print(\"=\"*70)\n",
    "\n",
    "if test_acc_64 > test_acc_128 + 1:\n",
    "    print(\"\\n✅ USE 64x64:\")\n",
    "    print(f\"   • Better test accuracy ({test_acc_64:.2f}% vs {test_acc_128:.2f}%)\")\n",
    "    print(f\"   • {speedup:.1f}x faster training\")\n",
    "    print(\"   • Less risk of overfitting\")\n",
    "elif test_acc_128 > test_acc_64 + 1:\n",
    "    print(\"\\n✅ USE 128x128:\")\n",
    "    print(f\"   • Better test accuracy ({test_acc_128:.2f}% vs {test_acc_64:.2f}%)\")\n",
    "    print(\"   • Worth the extra training time\")\n",
    "else:\n",
    "    print(\"\\n✅ USE 64x64 (Marginal accuracy difference):\")\n",
    "    print(f\"   • Similar accuracy ({test_acc_64:.2f}% vs {test_acc_128:.2f}%)\")\n",
    "    print(f\"   • {speedup:.1f}x faster training is significant advantage\")\n",
    "    print(\"   • More efficient for deployment\")\n",
    "\n",
    "print(\"\\n\" + \"=\"*70)"
   ]
  },
  {
   "cell_type": "markdown",
   "id": "ce347b91",
   "metadata": {},
   "source": [
    "## 11. Summary\n",
    "\n",
    "This experiment compared Vision Transformer performance on 64x64 vs 128x128 images.\n",
    "\n",
    "### What We Measured:\n",
    "1. **Test Accuracy** - Final classification performance\n",
    "2. **Validation Accuracy** - Best accuracy during training\n",
    "3. **Training Time** - Time per epoch and total training time\n",
    "4. **Overfitting** - Train-validation gap analysis\n",
    "5. **Convergence** - How quickly models reached optimal performance\n",
    "\n",
    "### Key Takeaways:\n",
    "- Higher resolution doesn't always mean better accuracy for Vision Transformers\n",
    "- Training time increases significantly with image size\n",
    "- Model parameters remain similar (depends on patch size, not image size)\n",
    "- Overfitting risk may increase with higher resolution on limited data\n",
    "\n",
    "### Next Steps:\n",
    "1. Update main ViT notebook to use optimal image size\n",
    "2. Consider testing 96x96 as a middle ground\n",
    "3. Experiment with different patch sizes\n",
    "4. Try data augmentation to help larger models\n",
    "\n",
    "---\n",
    "\n",
    "**Experiment Date**: 2025  \n",
    "**Dataset**: AlphaNum2 (Alphanumeric Characters)  \n",
    "**Model**: Vision Transformer (ViT-Tiny)"
   ]
  }
 ],
 "metadata": {
  "kernelspec": {
   "display_name": "rapids-env",
   "language": "python",
   "name": "python3"
  },
  "language_info": {
   "codemirror_mode": {
    "name": "ipython",
    "version": 3
   },
   "file_extension": ".py",
   "mimetype": "text/x-python",
   "name": "python",
   "nbconvert_exporter": "python",
   "pygments_lexer": "ipython3",
   "version": "3.9.23"
  }
 },
 "nbformat": 4,
 "nbformat_minor": 5
}
