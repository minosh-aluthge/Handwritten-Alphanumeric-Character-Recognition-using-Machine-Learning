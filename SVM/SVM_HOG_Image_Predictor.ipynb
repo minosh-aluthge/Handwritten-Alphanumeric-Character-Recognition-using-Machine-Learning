{
 "cells": [
  {
   "cell_type": "markdown",
   "id": "ff05c7a4",
   "metadata": {},
   "source": [
    "# SVM with HOG Image Predictor\n"
   ]
  },
  {
   "cell_type": "markdown",
   "id": "2b326141",
   "metadata": {},
   "source": [
    "## 1. Import Required Libraries"
   ]
  },
  {
   "cell_type": "code",
   "execution_count": 19,
   "id": "c6c0121c",
   "metadata": {},
   "outputs": [
    {
     "name": "stdout",
     "output_type": "stream",
     "text": [
      "✓ Libraries imported successfully\n"
     ]
    }
   ],
   "source": [
    "# Import required libraries\n",
    "import os\n",
    "import cv2\n",
    "import numpy as np\n",
    "import matplotlib.pyplot as plt\n",
    "import joblib\n",
    "from sklearn.svm import SVC\n",
    "\n",
    "print(\"✓ Libraries imported successfully\")"
   ]
  },
  {
   "cell_type": "markdown",
   "id": "2a2c2c68",
   "metadata": {},
   "source": [
    "## 2. Configuration - Set Your Paths\n",
    "\n",
    "Update these paths to match your setup:\n",
    "- `RESULTS_PATH`: Folder where model is saved\n",
    "- `model_filepath`: Path to the saved SVM model file"
   ]
  },
  {
   "cell_type": "code",
   "execution_count": 20,
   "id": "c97cf002",
   "metadata": {},
   "outputs": [
    {
     "name": "stdout",
     "output_type": "stream",
     "text": [
      "Model path: /home/ubuntu/Desktop/AIML project/results/SVMhog/tuned_svm_model_hog_48x48.joblib\n",
      "Image size: 48x48 grayscale\n",
      "HOG params (cv2.HOGDescriptor):\n",
      "  - Window: (48, 48)\n",
      "  - Block: (16, 16)\n",
      "  - Cell: (8, 8)\n",
      "  - Bins: 9\n",
      " Model file found!\n"
     ]
    }
   ],
   "source": [
    "RESULTS_PATH = '/home/ubuntu/Desktop/AIML project/results/SVMhog'\n",
    "model_filename = 'tuned_svm_model_hog_48x48.joblib'\n",
    "model_filepath = os.path.join(RESULTS_PATH, model_filename)\n",
    "\n",
    "# Image specifications (must match training setup)\n",
    "IMG_HEIGHT = 48\n",
    "IMG_WIDTH = 48\n",
    "\n",
    "# HOG parameters using cv2.HOGDescriptor (MUST match generate_hog_features.ipynb)\n",
    "HOG_PARAMS_CV2 = {\n",
    "    'winSize': (48, 48),\n",
    "    'blockSize': (16, 16),\n",
    "    'blockStride': (8, 8),\n",
    "    'cellSize': (8, 8),\n",
    "    'nbins': 9\n",
    "}\n",
    "\n",
    "print(f\"Model path: {model_filepath}\")\n",
    "print(f\"Image size: {IMG_HEIGHT}x{IMG_WIDTH} grayscale\")\n",
    "print(f\"HOG params (cv2.HOGDescriptor):\")\n",
    "print(f\"  - Window: {HOG_PARAMS_CV2['winSize']}\")\n",
    "print(f\"  - Block: {HOG_PARAMS_CV2['blockSize']}\")\n",
    "print(f\"  - Cell: {HOG_PARAMS_CV2['cellSize']}\")\n",
    "print(f\"  - Bins: {HOG_PARAMS_CV2['nbins']}\")\n",
    "\n",
    "# Verify paths exist\n",
    "if os.path.exists(model_filepath):\n",
    "    print(\" Model file found!\")\n",
    "else:\n",
    "    print(\" Model file not found! Please check the path.\")\n"
   ]
  },
  {
   "cell_type": "markdown",
   "id": "4894215b",
   "metadata": {},
   "source": [
    "## 4. Load Trained SVM Model"
   ]
  },
  {
   "cell_type": "code",
   "execution_count": 21,
   "id": "937083fa",
   "metadata": {},
   "outputs": [
    {
     "name": "stdout",
     "output_type": "stream",
     "text": [
      " Model loaded successfully from: /home/ubuntu/Desktop/AIML project/results/SVMhog/tuned_svm_model_hog_48x48.joblib\n",
      " Model type: SVC\n",
      " Kernel: rbf\n",
      " C parameter: 10\n",
      " Gamma: scale\n",
      " Expected feature dimension: 900\n",
      "\n",
      " Model ready for predictions!\n"
     ]
    }
   ],
   "source": [
    "# Load the trained SVM model\n",
    "try:\n",
    "    svm_model = joblib.load(model_filepath)\n",
    "    print(f\" Model loaded successfully from: {model_filepath}\")\n",
    "    print(f\" Model type: {type(svm_model).__name__}\")\n",
    "    print(f\" Kernel: {svm_model.kernel}\")\n",
    "    print(f\" C parameter: {svm_model.C}\")\n",
    "    print(f\" Gamma: {svm_model.gamma}\")\n",
    "    print(f\" Expected feature dimension: {svm_model.n_features_in_}\")\n",
    "    print(f\"\\n Model ready for predictions!\")\n",
    "except Exception as e:\n",
    "    print(f\" Error loading model: {str(e)}\")\n",
    "    print(f\"Please check that the model file exists at: {model_filepath}\")"
   ]
  },
  {
   "cell_type": "markdown",
   "id": "6fb7132f",
   "metadata": {},
   "source": [
    "## 5. Image Preprocessing and HOG Feature Extraction"
   ]
  },
  {
   "cell_type": "code",
   "execution_count": 22,
   "id": "c41e4c83",
   "metadata": {},
   "outputs": [
    {
     "name": "stdout",
     "output_type": "stream",
     "text": [
      " Image preprocessing and HOG extraction functions defined\n"
     ]
    }
   ],
   "source": [
    "def load_and_preprocess_image(image_path):\n",
    "\n",
    "    # Load image in grayscale\n",
    "    img = cv2.imread(image_path, cv2.IMREAD_GRAYSCALE)\n",
    "    \n",
    "    if img is None:\n",
    "        print(f\"❌ Error: Unable to load image from {image_path}\")\n",
    "        return None, None\n",
    "    \n",
    "    # Resize to 48x48\n",
    "    img_resized = cv2.resize(img, (IMG_WIDTH, IMG_HEIGHT))\n",
    "    \n",
    "    return img, img_resized\n",
    "\n",
    "def extract_hog_features(image):\n",
    "    # Initialize HOG descriptor with EXACT parameters from training\n",
    "    hog = cv2.HOGDescriptor(\n",
    "        _winSize=(48, 48),      # Image size\n",
    "        _blockSize=(16, 16),    # Block size\n",
    "        _blockStride=(8, 8),    # Step size for blocks\n",
    "        _cellSize=(8, 8),       # Cell size\n",
    "        _nbins=9                # Number of orientation bins\n",
    "    )\n",
    "    \n",
    "    # Compute HOG features\n",
    "    features = hog.compute(image)\n",
    "    \n",
    "    if features is not None:\n",
    "        return features.flatten()\n",
    "    else:\n",
    "        raise ValueError(\"Failed to extract HOG features\")\n",
    "\n",
    "print(\" Image preprocessing and HOG extraction functions defined\")"
   ]
  },
  {
   "cell_type": "markdown",
   "id": "3ee97016",
   "metadata": {},
   "source": [
    "## 6. Prediction Function with Visualization"
   ]
  },
  {
   "cell_type": "code",
   "execution_count": 23,
   "id": "84585e5c",
   "metadata": {},
   "outputs": [
    {
     "name": "stdout",
     "output_type": "stream",
     "text": [
      "✓ Prediction function defined\n"
     ]
    }
   ],
   "source": [
    "def predict_image_with_details(image_path, show_top_k=5, show_full_details=False):\n",
    "    # Check if image exists\n",
    "    if not os.path.exists(image_path):\n",
    "        print(f\" Image not found: {image_path}\")\n",
    "        return\n",
    "    \n",
    "    # Load and preprocess image\n",
    "    original_img, resized_img = load_and_preprocess_image(image_path)\n",
    "    \n",
    "    if original_img is None:\n",
    "        return\n",
    "    \n",
    "    # Extract HOG features\n",
    "    hog_features = extract_hog_features(resized_img)\n",
    "    \n",
    "    # Reshape for prediction (models expect 2D array)\n",
    "    features_reshaped = hog_features.reshape(1, -1)\n",
    "    \n",
    "    # Get prediction\n",
    "    predicted_class = svm_model.predict(features_reshaped)[0]\n",
    "    \n",
    "    # Get decision function values (confidence scores)\n",
    "    decision_values = svm_model.decision_function(features_reshaped)[0]\n",
    "    \n",
    "    # Get all classes the model was trained on\n",
    "    all_classes = svm_model.classes_\n",
    "    \n",
    "    # Convert predicted class to character\n",
    "    predicted_char = chr(predicted_class) if 32 <= predicted_class <= 126 else str(predicted_class)\n",
    "    \n",
    "    # Get top K predictions based on decision function values\n",
    "    top_k_indices = np.argsort(decision_values)[-show_top_k:][::-1]\n",
    "    top_k_classes = all_classes[top_k_indices]\n",
    "    top_k_scores = decision_values[top_k_indices]\n",
    "    \n",
    "    # Normalize scores to percentages (softmax-like)\n",
    "    exp_scores = np.exp(top_k_scores - np.max(top_k_scores))  # Subtract max for numerical stability\n",
    "    top_k_percentages = (exp_scores / np.sum(exp_scores)) * 100\n",
    "    \n",
    "    # Convert top K classes to characters\n",
    "    top_k_chars = [chr(cls) if 32 <= cls <= 126 else str(cls) for cls in top_k_classes]\n",
    "    \n",
    "    # Visualization\n",
    "    fig = plt.figure(figsize=(16, 5))\n",
    "    \n",
    "    # 1. Original image\n",
    "    ax1 = plt.subplot(1, 4, 1)\n",
    "    plt.imshow(original_img, cmap='gray')\n",
    "    plt.title(f'Original Image\\n{original_img.shape[1]}x{original_img.shape[0]}', \n",
    "              fontsize=11, fontweight='bold')\n",
    "    plt.axis('off')\n",
    "    \n",
    "    # 2. Resized image\n",
    "    ax2 = plt.subplot(1, 4, 2)\n",
    "    plt.imshow(resized_img, cmap='gray')\n",
    "    plt.title(f'Preprocessed\\n{IMG_HEIGHT}x{IMG_WIDTH} Grayscale', \n",
    "              fontsize=11, fontweight='bold')\n",
    "    plt.axis('off')\n",
    "    \n",
    "    # 3. HOG visualization (using skimage for visualization only)\n",
    "    ax3 = plt.subplot(1, 4, 3)\n",
    "    from skimage.feature import hog as skimage_hog\n",
    "    # Note: This is just for visualization - the actual features use cv2.HOGDescriptor\n",
    "    hog_features_viz, hog_image = skimage_hog(\n",
    "        resized_img, \n",
    "        orientations=9,\n",
    "        pixels_per_cell=(8, 8),\n",
    "        cells_per_block=(2, 2),\n",
    "        visualize=True\n",
    "    )\n",
    "    plt.imshow(hog_image, cmap='gray')\n",
    "    plt.title(f'HOG Features\\n{len(hog_features)} dimensions', \n",
    "              fontsize=11, fontweight='bold')\n",
    "    plt.axis('off')\n",
    "    \n",
    "    # 4. Top predictions bar chart\n",
    "    ax4 = plt.subplot(1, 4, 4)\n",
    "    labels_to_plot = [f\"{char}\\n({cls})\" for char, cls in zip(top_k_chars, top_k_classes)]\n",
    "    colors = ['green' if i == 0 else 'lightblue' for i in range(len(labels_to_plot))]\n",
    "    \n",
    "    bars = plt.barh(range(len(labels_to_plot)), top_k_percentages, color=colors, alpha=0.8)\n",
    "    plt.yticks(range(len(labels_to_plot)), labels_to_plot, fontsize=9)\n",
    "    plt.xlabel('Confidence (%)', fontsize=10)\n",
    "    plt.title(f'Top {show_top_k} Predictions', fontsize=11, fontweight='bold')\n",
    "    plt.xlim(0, 100)\n",
    "    plt.gca().invert_yaxis()\n",
    "    \n",
    "    # Add percentage labels on bars\n",
    "    for i, pct in enumerate(top_k_percentages):\n",
    "        plt.text(pct + 1, i, f'{pct:.1f}%', va='center', fontsize=9)\n",
    "    \n",
    "    plt.tight_layout()\n",
    "    plt.show()\n",
    "    \n",
    "    # Print prediction summary - Simple version (only percentages)\n",
    "    if not show_full_details:\n",
    "        print(\"\\n\" + \"=\"*80)\n",
    "        print(\" PREDICTION RESULT\")\n",
    "        print(\"=\"*80)\n",
    "        print(f\"Image: {os.path.basename(image_path)}\")\n",
    "        print(f\"Predicted Character: '{predicted_char}'\")\n",
    "        print(f\"Confidence: {top_k_percentages[0]:.1f}%\")\n",
    "        print(\"-\" * 80)\n",
    "        print(f\" Top {show_top_k} Predictions (Percentage):\")\n",
    "        for i, (char, cls, pct) in enumerate(zip(top_k_chars, top_k_classes, top_k_percentages), 1):\n",
    "            print(f\"  {i}. '{char}' (class: {cls}): {pct:.1f}%\")\n",
    "        print(\"=\"*80)\n",
    "    else:\n",
    "        # Print full details version\n",
    "        print(\"\\n\" + \"=\"*80)\n",
    "        print(\" PREDICTION RESULT\")\n",
    "        print(\"=\"*80)\n",
    "        print(f\"Image: {os.path.basename(image_path)}\")\n",
    "        print(f\"Original Size: {original_img.shape[1]}x{original_img.shape[0]}\")\n",
    "        print(f\"Preprocessed Size: {IMG_HEIGHT}x{IMG_WIDTH}\")\n",
    "        print(f\"HOG Feature Dimension: {len(hog_features)}\")\n",
    "        print(\"-\" * 80)\n",
    "        print(f\"Predicted Character: '{predicted_char}'\")\n",
    "        print(f\"Predicted Class (ASCII): {predicted_class}\")\n",
    "        print(f\"Confidence: {top_k_percentages[0]:.1f}%\")\n",
    "        print(\"=\"*80)\n",
    "        \n",
    "        print(f\"\\n Top {show_top_k} Predictions (with Decision Scores):\")\n",
    "        for i, (char, cls, score, pct) in enumerate(zip(top_k_chars, top_k_classes, top_k_scores, top_k_percentages), 1):\n",
    "            print(f\"  {i}. '{char}' (class: {cls}) - Score: {score:.4f}, Confidence: {pct:.1f}%\")\n",
    "        print(\"=\"*80)\n",
    "\n",
    "print(\"✓ Prediction function defined\")"
   ]
  },
  {
   "cell_type": "markdown",
   "id": "96df7a76",
   "metadata": {},
   "source": [
    "## 7. Predict Single Custom Image\n",
    "\n",
    "**Change the image path below to predict your own image!**"
   ]
  },
  {
   "cell_type": "code",
   "execution_count": 24,
   "id": "a1f87d2b",
   "metadata": {},
   "outputs": [
    {
     "data": {
      "image/png": "[encoded data removed]",
      "text/plain": [
       "<Figure size 1600x500 with 4 Axes>"
      ]
     },
     "metadata": {},
     "output_type": "display_data"
    },
    {
     "name": "stdout",
     "output_type": "stream",
     "text": [
      "\n",
      "================================================================================\n",
      " PREDICTION RESULT\n",
      "================================================================================\n",
      "Image: asaad.png\n",
      "Predicted Character: 'q'\n",
      "Confidence: 64.2%\n",
      "--------------------------------------------------------------------------------\n",
      " Top 5 Predictions (Percentage):\n",
      "  1. 'q' (class: 113): 64.2%\n",
      "  2. 'r' (class: 114): 23.6%\n",
      "  3. 'g' (class: 103): 8.7%\n",
      "  4. 't' (class: 116): 3.2%\n",
      "  5. 'I' (class: 73): 0.4%\n",
      "================================================================================\n"
     ]
    }
   ],
   "source": [
    "# CHANGE THIS PATH TO YOUR IMAGE\n",
    "custom_image_path = '/home/ubuntu/Pictures/asaad.png'\n",
    "\n",
    "# Run prediction with simple output (only percentages)\n",
    "predict_image_with_details(custom_image_path, show_top_k=5, show_full_details=False)\n",
    "\n",
    "# If you want to see full details with decision scores, use:\n",
    "# predict_image_with_details(custom_image_path, show_top_k=5, show_full_details=True)"
   ]
  }
 ],
 "metadata": {
  "kernelspec": {
   "display_name": "rapids-env",
   "language": "python",
   "name": "python3"
  },
  "language_info": {
   "codemirror_mode": {
    "name": "ipython",
    "version": 3
   },
   "file_extension": ".py",
   "mimetype": "text/x-python",
   "name": "python",
   "nbconvert_exporter": "python",
   "pygments_lexer": "ipython3",
   "version": "3.9.20"
  }
 },
 "nbformat": 4,
 "nbformat_minor": 5
}
