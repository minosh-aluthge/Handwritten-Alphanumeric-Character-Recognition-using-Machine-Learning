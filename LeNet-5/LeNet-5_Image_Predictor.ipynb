{
 "cells": [
  {
   "cell_type": "markdown",
   "id": "0f835f1e",
   "metadata": {},
   "source": [
    "# LeNet-5 Image Predictor\n",
    "\n",
    "This notebook loads a trained LeNet-5 model and predicts custom images.\n",
    "No training required - just load the saved model and predict!"
   ]
  },
  {
   "cell_type": "markdown",
   "id": "474d299e",
   "metadata": {},
   "source": [
    "## 1. Import Required Libraries"
   ]
  },
  {
   "cell_type": "code",
   "execution_count": 9,
   "id": "e6c924f2",
   "metadata": {},
   "outputs": [
    {
     "name": "stdout",
     "output_type": "stream",
     "text": [
      "✓ Libraries imported successfully\n"
     ]
    }
   ],
   "source": [
    "# Import required libraries\n",
    "import os\n",
    "import numpy as np\n",
    "import matplotlib.pyplot as plt\n",
    "import tensorflow as tf\n",
    "from tensorflow.keras.models import Sequential\n",
    "from tensorflow.keras.layers import Conv2D, MaxPooling2D, Flatten, Dense, Dropout\n",
    "from tensorflow.keras.regularizers import l2\n",
    "\n",
    "print(\"✓ Libraries imported successfully\")"
   ]
  },
  {
   "cell_type": "markdown",
   "id": "fab58c19",
   "metadata": {},
   "source": [
    "## 2. Configuration - Set Your Paths\n",
    "\n",
    "Update these paths to match your setup:\n",
    "- `BASE_PATH`: Root folder for your dataset\n",
    "- `RESULTS_PATH`: Folder where model weights are saved\n",
    "- `checkpoint_filepath`: Path to the saved model weights file"
   ]
  },
  {
   "cell_type": "code",
   "execution_count": 10,
   "id": "aa64b305",
   "metadata": {},
   "outputs": [
    {
     "name": "stdout",
     "output_type": "stream",
     "text": [
      "Model weights path: /home/ubuntu/Desktop/AIML project/results/LeNet-5/best_model_quick_improved.weights.h5\n",
      "Image size: 24x24x1\n",
      "✓ Model weights file found!\n",
      "✓ Training path found!\n"
     ]
    }
   ],
   "source": [
    "# Configuration - Set your paths here\n",
    "BASE_PATH = '/home/ubuntu/Desktop/AIML project/AlphaNum'\n",
    "TRAIN_PATH = os.path.join(BASE_PATH, \"train\")\n",
    "RESULTS_PATH = '/home/ubuntu/Desktop/AIML project/results/LeNet-5'\n",
    "\n",
    "# IMPORTANT: Use the improved model (better accuracy!)\n",
    "checkpoint_filepath = os.path.join(RESULTS_PATH, 'best_model_quick_improved.weights.h5')\n",
    "\n",
    "# If improved model doesn't work, try baseline:\n",
    "# checkpoint_filepath = os.path.join(RESULTS_PATH, 'best_model.weights.h5')\n",
    "\n",
    "# Image specifications (must match training setup)\n",
    "IMG_HEIGHT = 24\n",
    "IMG_WIDTH = 24\n",
    "IMG_CHANNELS = 1  # Grayscale\n",
    "\n",
    "print(f\"Model weights path: {checkpoint_filepath}\")\n",
    "print(f\"Image size: {IMG_HEIGHT}x{IMG_WIDTH}x{IMG_CHANNELS}\")\n",
    "\n",
    "# Verify paths exist\n",
    "if os.path.exists(checkpoint_filepath):\n",
    "    print(\"✓ Model weights file found!\")\n",
    "else:\n",
    "    print(\" Model weights file not found!\")\n",
    "    print(\"\\nAvailable models:\")\n",
    "    if os.path.exists(RESULTS_PATH):\n",
    "        for f in os.listdir(RESULTS_PATH):\n",
    "            if f.endswith('.h5'):\n",
    "                print(f\"  - {f}\")\n",
    "\n",
    "if os.path.exists(TRAIN_PATH):\n",
    "    print(\"✓ Training path found!\")\n",
    "else:\n",
    "    print(\" Training path not found!\")"
   ]
  },
  {
   "cell_type": "markdown",
   "id": "b9e57cd6",
   "metadata": {},
   "source": [
    "## 3. Load Class Names"
   ]
  },
  {
   "cell_type": "code",
   "execution_count": 11,
   "id": "384b4b45",
   "metadata": {},
   "outputs": [
    {
     "name": "stdout",
     "output_type": "stream",
     "text": [
      "✓ Found 53 classes\n",
      "\n",
      "First 10 classes: ['100', '101', '102', '103', '104', '105', '106', '107', '108', '109']\n",
      "Last 10 classes: ['85', '86', '87', '88', '89', '90', '97', '98', '99', '999']\n",
      "\n",
      " Character Mapping (first 10):\n",
      "  Class 100 → 'd'\n",
      "  Class 101 → 'e'\n",
      "  Class 102 → 'f'\n",
      "  Class 103 → 'g'\n",
      "  Class 104 → 'h'\n",
      "  Class 105 → 'i'\n",
      "  Class 106 → 'j'\n",
      "  Class 107 → 'k'\n",
      "  Class 108 → 'l'\n",
      "  Class 109 → 'm'\n"
     ]
    }
   ],
   "source": [
    "# Get class names from training folder\n",
    "class_names = sorted([d for d in os.listdir(TRAIN_PATH) if os.path.isdir(os.path.join(TRAIN_PATH, d))])\n",
    "num_classes = len(class_names)\n",
    "\n",
    "print(f\"✓ Found {num_classes} classes\")\n",
    "print(f\"\\nFirst 10 classes: {class_names[:10]}\")\n",
    "print(f\"Last 10 classes: {class_names[-10:]}\")\n",
    "\n",
    "# Show character mapping for ASCII-based classes\n",
    "print(\"\\n Character Mapping (first 10):\")\n",
    "for i, cls in enumerate(class_names[:10]):\n",
    "    if cls.isdigit():\n",
    "        ascii_val = int(cls)\n",
    "        char = chr(ascii_val) if 32 <= ascii_val <= 126 else cls\n",
    "        print(f\"  Class {cls} → '{char}'\")"
   ]
  },
  {
   "cell_type": "markdown",
   "id": "17344308",
   "metadata": {},
   "source": [
    "## 4. Define Model Architecture\n",
    "\n",
    "This function creates the LeNet-5 model architecture with different configurations.\n",
    "It will try multiple configurations to match the saved weights."
   ]
  },
  {
   "cell_type": "code",
   "execution_count": 12,
   "id": "9e5d0b9c",
   "metadata": {},
   "outputs": [
    {
     "name": "stdout",
     "output_type": "stream",
     "text": [
      "✓ Model architecture functions defined\n",
      "  - create_lenet5_variable(d1, d2) - Variable LeNet-5\n",
      "  - create_improved_model() - Improved with BatchNorm (128, 128)\n"
     ]
    }
   ],
   "source": [
    "def create_lenet5_variable(d1=120, d2=84):\n",
    "    \"\"\"\n",
    "    Create LeNet-5 model with variable dense layer sizes (NO dropout, NO regularization)\n",
    "    This is for the BASELINE model.\n",
    "    \n",
    "    Args:\n",
    "        d1: Units in first dense layer (default: 120)\n",
    "        d2: Units in second dense layer (default: 84)\n",
    "    \"\"\"\n",
    "    model = Sequential([\n",
    "        Conv2D(6, (5, 5), activation='relu', input_shape=(IMG_HEIGHT, IMG_WIDTH, IMG_CHANNELS)),\n",
    "        MaxPooling2D((2, 2)),\n",
    "        Conv2D(16, (5, 5), activation='relu'),\n",
    "        MaxPooling2D((2, 2)),\n",
    "        Flatten(),\n",
    "        Dense(d1, activation='relu'),\n",
    "        Dense(d2, activation='relu'),\n",
    "        Dense(num_classes, activation='softmax')\n",
    "    ])\n",
    "    return model\n",
    "\n",
    "def create_improved_model():\n",
    "    \"\"\"\n",
    "    Create IMPROVED model with BatchNorm and dropout\n",
    "    This matches the improved model architecture with (128, 128).\n",
    "    \"\"\"\n",
    "    from tensorflow.keras.layers import BatchNormalization, Dropout\n",
    "    from tensorflow.keras.regularizers import l2\n",
    "    \n",
    "    model = Sequential([\n",
    "        Conv2D(6, (5, 5), activation='relu', kernel_regularizer=l2(1e-4),\n",
    "               input_shape=(IMG_HEIGHT, IMG_WIDTH, IMG_CHANNELS)),\n",
    "        MaxPooling2D((2, 2)),\n",
    "        Conv2D(16, (5, 5), activation='relu', kernel_regularizer=l2(1e-4)),\n",
    "        MaxPooling2D((2, 2)),\n",
    "        Flatten(),\n",
    "        BatchNormalization(),\n",
    "        Dropout(0.2),\n",
    "        Dense(128, activation='relu', kernel_regularizer=l2(1e-4)),\n",
    "        BatchNormalization(),\n",
    "        Dropout(0.2),\n",
    "        Dense(128, activation='relu', kernel_regularizer=l2(1e-4)),\n",
    "        Dropout(0.1),\n",
    "        Dense(num_classes, activation='softmax')\n",
    "    ])\n",
    "    return model\n",
    "\n",
    "print(\"✓ Model architecture functions defined\")\n",
    "print(\"  - create_lenet5_variable(d1, d2) - Variable LeNet-5\")\n",
    "print(\"  - create_improved_model() - Improved with BatchNorm (128, 128)\")"
   ]
  },
  {
   "cell_type": "markdown",
   "id": "d8ff421a",
   "metadata": {},
   "source": [
    "## 5. Load Trained Model Weights\n",
    "\n",
    "Try different model configurations to find the one that matches the saved weights."
   ]
  },
  {
   "cell_type": "code",
   "execution_count": 13,
   "id": "9e2b30e0",
   "metadata": {},
   "outputs": [
    {
     "name": "stdout",
     "output_type": "stream",
     "text": [
      "Attempting to load model weights...\n",
      "\n",
      "Loading from: /home/ubuntu/Desktop/AIML project/results/LeNet-5/best_model_quick_improved.weights.h5\n",
      "\n",
      "Detected IMPROVED model weights file\n",
      "✓ Successfully loaded IMPROVED model (128, 128 with BatchNorm)\n",
      "\n",
      "✓ Model ready for predictions!\n",
      "✓ Total parameters: 45,569\n",
      "\n",
      "✓ You can now use predict_image_with_confidence() to make predictions!\n"
     ]
    },
    {
     "name": "stderr",
     "output_type": "stream",
     "text": [
      "/home/ubuntu/anaconda3/envs/rapids-env/lib/python3.9/site-packages/keras/src/layers/convolutional/base_conv.py:113: UserWarning: Do not pass an `input_shape`/`input_dim` argument to a layer. When using Sequential models, prefer using an `Input(shape)` object as the first layer in the model instead.\n",
      "  super().__init__(activity_regularizer=activity_regularizer, **kwargs)\n"
     ]
    }
   ],
   "source": [
    "# Auto-detect and load the correct model architecture\n",
    "print(\"Attempting to load model weights...\\n\")\n",
    "print(f\"Loading from: {checkpoint_filepath}\\n\")\n",
    "\n",
    "model = None\n",
    "\n",
    "# Determine which model to use based on filename\n",
    "if 'quick_improved' in checkpoint_filepath:\n",
    "    print(\"Detected IMPROVED model weights file\")\n",
    "    model = create_improved_model()\n",
    "    try:\n",
    "        model.load_weights(checkpoint_filepath)\n",
    "        print(\"✓ Successfully loaded IMPROVED model (128, 128 with BatchNorm)\")\n",
    "    except Exception as e:\n",
    "        print(f\" Failed: {str(e)[:120]}\")\n",
    "        model = None\n",
    "else:\n",
    "    print(\"Detected BASELINE model weights file\")\n",
    "    print(\"Trying different configurations...\")\n",
    "    \n",
    "    # Try different dense layer configurations\n",
    "    configs = [\n",
    "        (120, 84),   # Standard LeNet-5\n",
    "        (224, 84),   # Variant 1\n",
    "        (120, 120),  # Variant 2\n",
    "        (128, 128),  # Variant 3\n",
    "        (256, 128),  # Variant 4\n",
    "    ]\n",
    "    \n",
    "    for d1, d2 in configs:\n",
    "        try:\n",
    "            test_model = create_lenet5_variable(d1, d2)\n",
    "            test_model.load_weights(checkpoint_filepath)\n",
    "            model = test_model\n",
    "            print(f\"✓ Successfully loaded BASELINE model ({d1}, {d2})\")\n",
    "            break\n",
    "        except:\n",
    "            print(f\"✗ Config ({d1}, {d2}) doesn't match\")\n",
    "            continue\n",
    "\n",
    "if model is None:\n",
    "    print(\"\\n Could not load model with any configuration!\")\n",
    "    print(\"The weights file may be corrupted or from a different architecture.\")\n",
    "else:\n",
    "    print(f\"\\n✓ Model ready for predictions!\")\n",
    "    print(f\"✓ Total parameters: {model.count_params():,}\")\n",
    "    print(f\"\\n✓ You can now use predict_image_with_confidence() to make predictions!\")"
   ]
  },
  {
   "cell_type": "markdown",
   "id": "a4bc5a79",
   "metadata": {},
   "source": [
    "## 6. Image Preprocessing Function"
   ]
  },
  {
   "cell_type": "code",
   "execution_count": 14,
   "id": "614e91b7",
   "metadata": {},
   "outputs": [
    {
     "name": "stdout",
     "output_type": "stream",
     "text": [
      "✓ Image preprocessing function defined\n"
     ]
    }
   ],
   "source": [
    "def load_and_preprocess_image(image_path):\n",
    "    \"\"\"\n",
    "    Load and preprocess image for prediction.\n",
    "    \n",
    "    Args:\n",
    "        image_path: Path to the image file\n",
    "    \n",
    "    Returns:\n",
    "        Preprocessed image array ready for prediction\n",
    "    \"\"\"\n",
    "    # Load image in grayscale and resize to model input size\n",
    "    img = tf.keras.utils.load_img(\n",
    "        image_path, \n",
    "        color_mode='grayscale', \n",
    "        target_size=(IMG_HEIGHT, IMG_WIDTH)\n",
    "    )\n",
    "    \n",
    "    # Convert to array and normalize to [0, 1]\n",
    "    img_array = tf.keras.utils.img_to_array(img) / 255.0\n",
    "    \n",
    "    # Add batch dimension\n",
    "    img_input = tf.expand_dims(img_array, 0)\n",
    "    \n",
    "    return img_array, img_input\n",
    "\n",
    "print(\"✓ Image preprocessing function defined\")"
   ]
  },
  {
   "cell_type": "markdown",
   "id": "98f0e745",
   "metadata": {},
   "source": [
    "## 7. Prediction Function with Visualization"
   ]
  },
  {
   "cell_type": "code",
   "execution_count": 15,
   "id": "04d3e997",
   "metadata": {},
   "outputs": [
    {
     "name": "stdout",
     "output_type": "stream",
     "text": [
      "✓ Prediction function defined\n"
     ]
    }
   ],
   "source": [
    "def predict_image_with_confidence(image_path, top_k=5):\n",
    "    \"\"\"\n",
    "    Predict image class and show confidence with visualization.\n",
    "    \n",
    "    Args:\n",
    "        image_path: Path to the image to predict\n",
    "        top_k: Number of top predictions to show (default: 5)\n",
    "    \"\"\"\n",
    "    # Check if image exists\n",
    "    if not os.path.exists(image_path):\n",
    "        print(f\" Image not found: {image_path}\")\n",
    "        return\n",
    "    \n",
    "    # Load and preprocess image\n",
    "    img_array, img_input = load_and_preprocess_image(image_path)\n",
    "    \n",
    "    # Get predictions\n",
    "    predictions = model.predict(img_input, verbose=0)\n",
    "    confidence = np.max(predictions[0]) * 100\n",
    "    predicted_class_idx = np.argmax(predictions[0])\n",
    "    predicted_class = class_names[predicted_class_idx]\n",
    "    \n",
    "    # Convert to character if it's an ASCII code\n",
    "    if predicted_class.isdigit():\n",
    "        ascii_val = int(predicted_class)\n",
    "        predicted_char = chr(ascii_val) if 32 <= ascii_val <= 126 else predicted_class\n",
    "    else:\n",
    "        predicted_char = predicted_class\n",
    "    \n",
    "    # Get top K predictions\n",
    "    top_k_idx = np.argsort(predictions[0])[-top_k:][::-1]\n",
    "    top_k_conf = predictions[0][top_k_idx] * 100\n",
    "    top_k_labels = [class_names[i] for i in top_k_idx]\n",
    "    \n",
    "    # Convert top K labels to characters\n",
    "    top_k_chars = []\n",
    "    for label in top_k_labels:\n",
    "        if label.isdigit():\n",
    "            ascii_val = int(label)\n",
    "            top_k_chars.append(chr(ascii_val) if 32 <= ascii_val <= 126 else label)\n",
    "        else:\n",
    "            top_k_chars.append(label)\n",
    "    \n",
    "    # Visualization\n",
    "    plt.figure(figsize=(14, 5))\n",
    "    \n",
    "    # 1. Show input image\n",
    "    plt.subplot(1, 3, 1)\n",
    "    plt.imshow(img_array.squeeze(), cmap='gray')\n",
    "    plt.title(f'Input Image\\n{os.path.basename(image_path)}', fontsize=12, fontweight='bold')\n",
    "    plt.axis('off')\n",
    "    \n",
    "    # 2. Show preprocessed image\n",
    "    plt.subplot(1, 3, 2)\n",
    "    plt.imshow(img_array.squeeze(), cmap='gray')\n",
    "    plt.title(f'Preprocessed\\n{IMG_HEIGHT}x{IMG_WIDTH} Grayscale', fontsize=12, fontweight='bold')\n",
    "    plt.axis('off')\n",
    "    \n",
    "    # 3. Show top K predictions as horizontal bar chart\n",
    "    plt.subplot(1, 3, 3)\n",
    "    colors = ['green' if i == 0 else 'lightblue' for i in range(top_k)]\n",
    "    y_pos = np.arange(top_k)\n",
    "    plt.barh(y_pos, top_k_conf, color=colors, alpha=0.8)\n",
    "    plt.yticks(y_pos, [f\"{char} ({label})\" for char, label in zip(top_k_chars, top_k_labels)], fontsize=10)\n",
    "    plt.xlabel('Confidence (%)', fontsize=11)\n",
    "    plt.title(f'Top {top_k} Predictions', fontsize=12, fontweight='bold')\n",
    "    plt.xlim(0, 100)\n",
    "    plt.gca().invert_yaxis()  # Highest confidence at top\n",
    "    \n",
    "    # Add confidence values on bars\n",
    "    for i, conf in enumerate(top_k_conf):\n",
    "        plt.text(conf + 1, i, f'{conf:.2f}%', va='center', fontsize=9)\n",
    "    \n",
    "    plt.tight_layout()\n",
    "    plt.show()\n",
    "    \n",
    "    # Print prediction summary\n",
    "    print(\"\\n\" + \"=\"*70)\n",
    "    print(\" PREDICTION RESULT\")\n",
    "    print(\"=\"*70)\n",
    "    print(f\"Image: {os.path.basename(image_path)}\")\n",
    "    print(f\"Predicted Character: '{predicted_char}'\")\n",
    "    print(f\"Predicted Class: {predicted_class}\")\n",
    "    print(f\"Confidence: {confidence:.2f}%\")\n",
    "    print(\"=\"*70)\n",
    "    \n",
    "    print(f\"\\n Top {top_k} Predictions:\")\n",
    "    for i, (char, label, conf) in enumerate(zip(top_k_chars, top_k_labels, top_k_conf), 1):\n",
    "        print(f\"  {i}. '{char}' (class: {label}) - {conf:.2f}%\")\n",
    "    print(\"=\"*70)\n",
    "\n",
    "print(\"✓ Prediction function defined\")"
   ]
  },
  {
   "cell_type": "markdown",
   "id": "b70014ff",
   "metadata": {},
   "source": [
    "## 8. Predict Custom Image\n",
    "\n",
    "**Change the `custom_image_path` below to your image path and run the cell!**\n",
    "\n",
    "This will:\n",
    "- Load your image\n",
    "- Preprocess it (resize to 24x24 grayscale)\n",
    "- Predict the character\n",
    "- Show confidence scores for top 5 predictions"
   ]
  },
  {
   "cell_type": "code",
   "execution_count": 16,
   "id": "2865fcbd",
   "metadata": {},
   "outputs": [
    {
     "data": {
      "image/png": "[encoded data removed]",
      "text/plain": [
       "<Figure size 1400x500 with 3 Axes>"
      ]
     },
     "metadata": {},
     "output_type": "display_data"
    },
    {
     "name": "stdout",
     "output_type": "stream",
     "text": [
      "\n",
      "======================================================================\n",
      " PREDICTION RESULT\n",
      "======================================================================\n",
      "Image: asaad.png\n",
      "Predicted Character: 'Q'\n",
      "Predicted Class: 81\n",
      "Confidence: 99.99%\n",
      "======================================================================\n",
      "\n",
      " Top 5 Predictions:\n",
      "  1. 'Q' (class: 81) - 99.99%\n",
      "  2. 'G' (class: 71) - 0.00%\n",
      "  3. 'B' (class: 66) - 0.00%\n",
      "  4. 'P' (class: 80) - 0.00%\n",
      "  5. 'R' (class: 82) - 0.00%\n",
      "======================================================================\n"
     ]
    }
   ],
   "source": [
    "# CHANGE THIS PATH TO YOUR IMAGE\n",
    "custom_image_path = '/home/ubuntu/Pictures/asaad.png'\n",
    "\n",
    "# Run prediction\n",
    "predict_image_with_confidence(custom_image_path, top_k=5)"
   ]
  }
 ],
 "metadata": {
  "kernelspec": {
   "display_name": "rapids-env",
   "language": "python",
   "name": "python3"
  },
  "language_info": {
   "codemirror_mode": {
    "name": "ipython",
    "version": 3
   },
   "file_extension": ".py",
   "mimetype": "text/x-python",
   "name": "python",
   "nbconvert_exporter": "python",
   "pygments_lexer": "ipython3",
   "version": "3.9.20"
  }
 },
 "nbformat": 4,
 "nbformat_minor": 5
}
